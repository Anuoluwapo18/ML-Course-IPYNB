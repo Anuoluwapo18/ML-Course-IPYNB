{
 "cells": [
  {
   "cell_type": "markdown",
   "metadata": {},
   "source": [
    "# Lab 1: ML Life Cycle: Business Understanding and Problem Formulation"
   ]
  },
  {
   "cell_type": "code",
   "execution_count": 121,
   "metadata": {},
   "outputs": [],
   "source": [
    "import pandas as pd\n",
    "import numpy as np"
   ]
  },
  {
   "cell_type": "markdown",
   "metadata": {},
   "source": [
    "In this lab, you will practice the first step of the machine learning life cycle: formulating a machine learning problem. But first, you will get more practice working with some of the Python machine learning packages that you will use throughout the machine learning life cycle to develop your models."
   ]
  },
  {
   "cell_type": "markdown",
   "metadata": {},
   "source": [
    " ## Part 1. Practice Working with ML Python Tools"
   ]
  },
  {
   "cell_type": "markdown",
   "metadata": {},
   "source": [
    "In this part of the lab you will:\n",
    "\n",
    "1. Work with NumPy arrays and NumPy functions\n",
    "2. Create Pandas DataFrames from data\n",
    "3. Use NumPy and Pandas to analyze the data\n",
    "4. Visualize the data with Matplotlib"
   ]
  },
  {
   "cell_type": "markdown",
   "metadata": {},
   "source": [
    "<b>Note</b>: In Jupyter Notebooks, you can output a variable in two different ways: \n",
    "\n",
    "1. By writing the name of the variable \n",
    "2. By using the python `print()` function\n",
    "\n",
    "The code cells below demonstrate this. Run each cell and inspect the results."
   ]
  },
  {
   "cell_type": "code",
   "execution_count": 122,
   "metadata": {},
   "outputs": [
    {
     "data": {
      "text/plain": [
       "5"
      ]
     },
     "execution_count": 122,
     "metadata": {},
     "output_type": "execute_result"
    }
   ],
   "source": [
    "x = 5\n",
    "x"
   ]
  },
  {
   "cell_type": "code",
   "execution_count": 123,
   "metadata": {},
   "outputs": [
    {
     "name": "stdout",
     "output_type": "stream",
     "text": [
      "5\n"
     ]
    }
   ],
   "source": [
    "x = 5\n",
    "print(x)"
   ]
  },
  {
   "cell_type": "markdown",
   "metadata": {},
   "source": [
    "If you want to output multiple items, you must use a `print()` statement. See the code cell below as an example."
   ]
  },
  {
   "cell_type": "code",
   "execution_count": 124,
   "metadata": {},
   "outputs": [
    {
     "name": "stdout",
     "output_type": "stream",
     "text": [
      "4\n",
      "3\n"
     ]
    }
   ],
   "source": [
    "y = 4\n",
    "z = 3\n",
    "\n",
    "print(y)\n",
    "print(z)"
   ]
  },
  {
   "cell_type": "markdown",
   "metadata": {},
   "source": [
    "## Practice Operating on NumPy Arrays"
   ]
  },
  {
   "cell_type": "markdown",
   "metadata": {},
   "source": [
    "### a. Define a Python list"
   ]
  },
  {
   "cell_type": "markdown",
   "metadata": {},
   "source": [
    "The code cell below defines a new list in Python."
   ]
  },
  {
   "cell_type": "code",
   "execution_count": 125,
   "metadata": {},
   "outputs": [
    {
     "data": {
      "text/plain": [
       "[0, 2, 4, 6, 8, 10, 12, 14]"
      ]
     },
     "execution_count": 125,
     "metadata": {},
     "output_type": "execute_result"
    }
   ],
   "source": [
    "python_list = [0,2,4,6,8,10,12,14]\n",
    "python_list"
   ]
  },
  {
   "cell_type": "markdown",
   "metadata": {},
   "source": [
    "### b. Define a Python range\n",
    "\n",
    "The code cell below defines a Python range in that contains the same values as those in the list above."
   ]
  },
  {
   "cell_type": "code",
   "execution_count": 126,
   "metadata": {},
   "outputs": [
    {
     "data": {
      "text/plain": [
       "range(0, 15, 2)"
      ]
     },
     "execution_count": 126,
     "metadata": {},
     "output_type": "execute_result"
    }
   ],
   "source": [
    "python_range = range(0, 15, 2)\n",
    "python_range"
   ]
  },
  {
   "cell_type": "markdown",
   "metadata": {},
   "source": [
    "The above returns an object of type `range`. The code cell below coverts this object to a Python list using the Python `list()` function.\n",
    " "
   ]
  },
  {
   "cell_type": "code",
   "execution_count": 127,
   "metadata": {},
   "outputs": [
    {
     "data": {
      "text/plain": [
       "[0, 2, 4, 6, 8, 10, 12, 14]"
      ]
     },
     "execution_count": 127,
     "metadata": {},
     "output_type": "execute_result"
    }
   ],
   "source": [
    "list(python_range)"
   ]
  },
  {
   "cell_type": "markdown",
   "metadata": {},
   "source": [
    "### c. Define a NumPy range"
   ]
  },
  {
   "cell_type": "markdown",
   "metadata": {},
   "source": [
    "<b>Task:</b> In the code cell below, use NumPy's `np.arange()` method to create a NumPy range that has the same output as the Python range above. Save the output to the variable `numpy_range`."
   ]
  },
  {
   "cell_type": "code",
   "execution_count": 128,
   "metadata": {},
   "outputs": [
    {
     "name": "stdout",
     "output_type": "stream",
     "text": [
      "[ 0  2  4  6  8 10 12 14]\n"
     ]
    }
   ],
   "source": [
    "# create  a NumPy range that has the same output as the Python range above\n",
    "numpy_range = np.arange (0, 15, 2)\n",
    "print(numpy_range)"
   ]
  },
  {
   "cell_type": "markdown",
   "metadata": {},
   "source": [
    "The code above returns an object of type `ndarray` (i.e. an array). \n",
    "\n",
    "<b>Task:</b> In the code cell below, convert the NumPy array `numpy_range` to a Python list.\n"
   ]
  },
  {
   "cell_type": "code",
   "execution_count": 129,
   "metadata": {},
   "outputs": [
    {
     "data": {
      "text/plain": [
       "[np.int64(0),\n",
       " np.int64(2),\n",
       " np.int64(4),\n",
       " np.int64(6),\n",
       " np.int64(8),\n",
       " np.int64(10),\n",
       " np.int64(12),\n",
       " np.int64(14)]"
      ]
     },
     "execution_count": 129,
     "metadata": {},
     "output_type": "execute_result"
    }
   ],
   "source": [
    "list(numpy_range)"
   ]
  },
  {
   "cell_type": "markdown",
   "metadata": {},
   "source": [
    "### d. List comprehension"
   ]
  },
  {
   "cell_type": "markdown",
   "metadata": {},
   "source": [
    "Consider the task of replacing each value in a list with its square. The traditional way of performing a transformation on every element of a list is via a `for` loop. \n",
    "\n",
    "\n",
    "<b>Task:</b> In the code cell below, use a `for` loop to replace every value in the list `my_list` with its square (e.g. 2 will become 4). In your loop, use a range.\n",
    "\n"
   ]
  },
  {
   "cell_type": "code",
   "execution_count": 130,
   "metadata": {},
   "outputs": [
    {
     "name": "stdout",
     "output_type": "stream",
     "text": [
      "[1, 4, 9, 16]\n"
     ]
    }
   ],
   "source": [
    "my_list = [1,2,3,4]\n",
    "\n",
    "for i in range(len(my_list)):\n",
    "    my_list[i] = my_list[i]**2\n",
    "    \n",
    "print(my_list)"
   ]
  },
  {
   "cell_type": "markdown",
   "metadata": {},
   "source": [
    "There is a different, more 'Pythonic' way to accomplish the same task.<br>\n",
    "\n",
    "*List comprehension* is one of the most elegant functionalities native to Python. It offers a concise way of applying a particular transformation to every element in a list. <br>\n",
    "\n",
    "By using list comprehension syntax, we can write a single, easily interpretable line of code that does the same transformation without using ranges or an iterating index variable `i`:"
   ]
  },
  {
   "cell_type": "code",
   "execution_count": 131,
   "metadata": {},
   "outputs": [
    {
     "name": "stdout",
     "output_type": "stream",
     "text": [
      "[1, 4, 9, 16]\n"
     ]
    }
   ],
   "source": [
    "my_list = [1,2,3,4]\n",
    "\n",
    "my_list = [x**2 for x in my_list]\n",
    "\n",
    "print(my_list)"
   ]
  },
  {
   "cell_type": "markdown",
   "metadata": {},
   "source": [
    "### e. Create a NumPy array"
   ]
  },
  {
   "cell_type": "markdown",
   "metadata": {},
   "source": [
    "<b>Task:</b> In the code cell below, create a `numpy` array that contains the integer values 1 through 4. Save the result to variable `arr`."
   ]
  },
  {
   "cell_type": "code",
   "execution_count": 132,
   "metadata": {},
   "outputs": [
    {
     "name": "stdout",
     "output_type": "stream",
     "text": [
      "[1 2 3 4]\n"
     ]
    }
   ],
   "source": [
    "#  create a numpy array that contains the integer values 1 through 4\n",
    "arr = np.array([1,2,3,4])\n",
    "print(arr)"
   ]
  },
  {
   "cell_type": "markdown",
   "metadata": {},
   "source": [
    "### e.  Obtain the dimensions of the NumPy array"
   ]
  },
  {
   "cell_type": "markdown",
   "metadata": {},
   "source": [
    "The NumPy function `np.shape()` returns the dimensions of a `numpy` array. Because `numpy` arrays can be two dimensional (i.e. a matrix), `np.shape()` returns a tuple that contains the lengths of the array's dimensions. You can consider the result to be the number of rows and the number of columns in the NumPy array.\n",
    "\n",
    "<b>Task:</b> In the code cell below, use `np.shape()` to find the 'shape' of `numpy` array `arr`."
   ]
  },
  {
   "cell_type": "code",
   "execution_count": 133,
   "metadata": {},
   "outputs": [
    {
     "data": {
      "text/plain": [
       "(4,)"
      ]
     },
     "execution_count": 133,
     "metadata": {},
     "output_type": "execute_result"
    }
   ],
   "source": [
    "# use np.shape() to find the 'shape' of numpy array arr.\n",
    "np.shape (arr)"
   ]
  },
  {
   "cell_type": "markdown",
   "metadata": {},
   "source": [
    "Notice that there appears to be an empty 'slot' for another number in the tuple.\n",
    "Since `arr` is a one-dimensional array, we only care about the first element in the tuple that `np.shape()` returns.\n",
    "\n",
    "<b>Task:</b> In the code cell below, obtain the length of `arr` by extracting the first element that is returned by `np.shape()`. Save the result to the variable `arr_length`.\n"
   ]
  },
  {
   "cell_type": "code",
   "execution_count": 134,
   "metadata": {},
   "outputs": [
    {
     "name": "stdout",
     "output_type": "stream",
     "text": [
      "(4,)\n"
     ]
    }
   ],
   "source": [
    "# obtain the length of arr by extracting the first element that is returned by np.shape(). Save the result to the variable arr_length.\n",
    "arr_length = np.shape(arr)\n",
    "print(arr_length)"
   ]
  },
  {
   "cell_type": "markdown",
   "metadata": {},
   "source": [
    "### f. Create a uniform (same value in every position) array"
   ]
  },
  {
   "cell_type": "markdown",
   "metadata": {},
   "source": [
    "We will now use ```np.ones()``` to create an array of a specified length that contains the value '1' in each position:"
   ]
  },
  {
   "cell_type": "code",
   "execution_count": 135,
   "metadata": {},
   "outputs": [
    {
     "data": {
      "text/plain": [
       "array([1, 1, 1, 1, 1, 1, 1, 1, 1, 1, 1, 1, 1, 1, 1, 1, 1, 1, 1, 1, 1, 1,\n",
       "       1, 1, 1, 1, 1, 1, 1, 1, 1, 1, 1, 1, 1, 1, 1, 1, 1, 1, 1, 1, 1, 1,\n",
       "       1, 1, 1, 1, 1, 1, 1, 1, 1, 1, 1])"
      ]
     },
     "execution_count": 135,
     "metadata": {},
     "output_type": "execute_result"
    }
   ],
   "source": [
    "np.ones(55, dtype=int)"
   ]
  },
  {
   "cell_type": "markdown",
   "metadata": {},
   "source": [
    "We can use this method to create an array of any identical value. Let's create an array of length 13, filled with the value '7' in every position:"
   ]
  },
  {
   "cell_type": "code",
   "execution_count": 136,
   "metadata": {},
   "outputs": [
    {
     "data": {
      "text/plain": [
       "array([7, 7, 7, 7, 7, 7, 7, 7, 7, 7, 7, 7, 7])"
      ]
     },
     "execution_count": 136,
     "metadata": {},
     "output_type": "execute_result"
    }
   ],
   "source": [
    "7 * np.ones(13, dtype=int)"
   ]
  },
  {
   "cell_type": "markdown",
   "metadata": {},
   "source": [
    "### g. Create a two-dimensional NumPy array"
   ]
  },
  {
   "cell_type": "markdown",
   "metadata": {},
   "source": [
    "Let us explore the possibilities of the ```np.array()``` function further. NumPy arrays can be of more than one dimension. The code cell below creates a two-dimensional `numpy` array (a matrix)."
   ]
  },
  {
   "cell_type": "code",
   "execution_count": 137,
   "metadata": {},
   "outputs": [
    {
     "data": {
      "text/plain": [
       "array([[1, 2, 3],\n",
       "       [4, 5, 6]])"
      ]
     },
     "execution_count": 137,
     "metadata": {},
     "output_type": "execute_result"
    }
   ],
   "source": [
    "matrix = np.array([[1,2,3], [4,5,6]])\n",
    "matrix"
   ]
  },
  {
   "cell_type": "markdown",
   "metadata": {},
   "source": [
    "<b>Task:</b> In the code cell below, use `np.shape()` to find the dimensions of `matrix`."
   ]
  },
  {
   "cell_type": "code",
   "execution_count": 138,
   "metadata": {},
   "outputs": [
    {
     "data": {
      "text/plain": [
       "(2, 3)"
      ]
     },
     "execution_count": 138,
     "metadata": {},
     "output_type": "execute_result"
    }
   ],
   "source": [
    "# use np.shape() to find the dimensions of matrix.\n",
    "np.shape(matrix)"
   ]
  },
  {
   "cell_type": "markdown",
   "metadata": {},
   "source": [
    "### h. Create an identity matrix"
   ]
  },
  {
   "cell_type": "markdown",
   "metadata": {},
   "source": [
    "`np.eye()` is a NumPy function that creates an identity matrix of a specified size. An identity matrix is a matrix in which all of the values of the main diagonal are one, and all other values in the matrix are zero."
   ]
  },
  {
   "cell_type": "code",
   "execution_count": 139,
   "metadata": {},
   "outputs": [
    {
     "data": {
      "text/plain": [
       "array([[1., 0., 0., 0., 0.],\n",
       "       [0., 1., 0., 0., 0.],\n",
       "       [0., 0., 1., 0., 0.],\n",
       "       [0., 0., 0., 1., 0.],\n",
       "       [0., 0., 0., 0., 1.]])"
      ]
     },
     "execution_count": 139,
     "metadata": {},
     "output_type": "execute_result"
    }
   ],
   "source": [
    "np.eye(5)"
   ]
  },
  {
   "cell_type": "markdown",
   "metadata": {},
   "source": [
    "Check your intuition: What do you think will be the output after running this cell? Run the cell to see if you are correct."
   ]
  },
  {
   "cell_type": "code",
   "execution_count": 140,
   "metadata": {},
   "outputs": [
    {
     "data": {
      "text/plain": [
       "array([[5., 0., 0.],\n",
       "       [0., 5., 0.],\n",
       "       [0., 0., 5.]])"
      ]
     },
     "execution_count": 140,
     "metadata": {},
     "output_type": "execute_result"
    }
   ],
   "source": [
    "A = np.eye(3)\n",
    "B = 4 * np.eye(3)\n",
    "A+B"
   ]
  },
  {
   "cell_type": "markdown",
   "metadata": {},
   "source": [
    "### i. A small challenge:  matrix transformation and random matrix generation\n",
    "\n",
    "The `np.triu()` function obtains the upper right triangle of a two-dimensional NumPy array (matrix). Inspect the documentation by running the command ```np.triu?``` in the cell below. "
   ]
  },
  {
   "cell_type": "code",
   "execution_count": 141,
   "metadata": {},
   "outputs": [
    {
     "name": "stdout",
     "output_type": "stream",
     "text": [
      "\u001b[1;31mSignature:\u001b[0m       \u001b[0mnp\u001b[0m\u001b[1;33m.\u001b[0m\u001b[0mtriu\u001b[0m\u001b[1;33m(\u001b[0m\u001b[0mm\u001b[0m\u001b[1;33m,\u001b[0m \u001b[0mk\u001b[0m\u001b[1;33m=\u001b[0m\u001b[1;36m0\u001b[0m\u001b[1;33m)\u001b[0m\u001b[1;33m\u001b[0m\u001b[1;33m\u001b[0m\u001b[0m\n",
      "\u001b[1;31mCall signature:\u001b[0m  \u001b[0mnp\u001b[0m\u001b[1;33m.\u001b[0m\u001b[0mtriu\u001b[0m\u001b[1;33m(\u001b[0m\u001b[1;33m*\u001b[0m\u001b[0margs\u001b[0m\u001b[1;33m,\u001b[0m \u001b[1;33m**\u001b[0m\u001b[0mkwargs\u001b[0m\u001b[1;33m)\u001b[0m\u001b[1;33m\u001b[0m\u001b[1;33m\u001b[0m\u001b[0m\n",
      "\u001b[1;31mType:\u001b[0m            _ArrayFunctionDispatcher\n",
      "\u001b[1;31mString form:\u001b[0m     <function triu at 0x00000269A3809DA0>\n",
      "\u001b[1;31mFile:\u001b[0m            c:\\users\\wande\\appdata\\local\\programs\\python\\python312\\lib\\site-packages\\numpy\\lib\\_twodim_base_impl.py\n",
      "\u001b[1;31mDocstring:\u001b[0m      \n",
      "Upper triangle of an array.\n",
      "\n",
      "Return a copy of an array with the elements below the `k`-th diagonal\n",
      "zeroed. For arrays with ``ndim`` exceeding 2, `triu` will apply to the\n",
      "final two axes.\n",
      "\n",
      "Please refer to the documentation for `tril` for further details.\n",
      "\n",
      "See Also\n",
      "--------\n",
      "tril : lower triangle of an array\n",
      "\n",
      "Examples\n",
      "--------\n",
      ">>> np.triu([[1,2,3],[4,5,6],[7,8,9],[10,11,12]], -1)\n",
      "array([[ 1,  2,  3],\n",
      "       [ 4,  5,  6],\n",
      "       [ 0,  8,  9],\n",
      "       [ 0,  0, 12]])\n",
      "\n",
      ">>> np.triu(np.arange(3*4*5).reshape(3, 4, 5))\n",
      "array([[[ 0,  1,  2,  3,  4],\n",
      "        [ 0,  6,  7,  8,  9],\n",
      "        [ 0,  0, 12, 13, 14],\n",
      "        [ 0,  0,  0, 18, 19]],\n",
      "       [[20, 21, 22, 23, 24],\n",
      "        [ 0, 26, 27, 28, 29],\n",
      "        [ 0,  0, 32, 33, 34],\n",
      "        [ 0,  0,  0, 38, 39]],\n",
      "       [[40, 41, 42, 43, 44],\n",
      "        [ 0, 46, 47, 48, 49],\n",
      "        [ 0,  0, 52, 53, 54],\n",
      "        [ 0,  0,  0, 58, 59]]])\n",
      "\u001b[1;31mClass docstring:\u001b[0m\n",
      "Class to wrap functions with checks for __array_function__ overrides.\n",
      "\n",
      "All arguments are required, and can only be passed by position.\n",
      "\n",
      "Parameters\n",
      "----------\n",
      "dispatcher : function or None\n",
      "    The dispatcher function that returns a single sequence-like object\n",
      "    of all arguments relevant.  It must have the same signature (except\n",
      "    the default values) as the actual implementation.\n",
      "    If ``None``, this is a ``like=`` dispatcher and the\n",
      "    ``_ArrayFunctionDispatcher`` must be called with ``like`` as the\n",
      "    first (additional and positional) argument.\n",
      "implementation : function\n",
      "    Function that implements the operation on NumPy arrays without\n",
      "    overrides.  Arguments passed calling the ``_ArrayFunctionDispatcher``\n",
      "    will be forwarded to this (and the ``dispatcher``) as if using\n",
      "    ``*args, **kwargs``.\n",
      "\n",
      "Attributes\n",
      "----------\n",
      "_implementation : function\n",
      "    The original implementation passed in."
     ]
    }
   ],
   "source": [
    "np.triu?"
   ]
  },
  {
   "cell_type": "markdown",
   "metadata": {},
   "source": [
    "<b>Task:</b> Inspect the code in the cell below, then run the code and note the resulting matrix `M`."
   ]
  },
  {
   "cell_type": "code",
   "execution_count": 142,
   "metadata": {},
   "outputs": [
    {
     "name": "stdout",
     "output_type": "stream",
     "text": [
      "M=\n",
      " [[0.26 0.57 0.77 0.36 0.04]\n",
      " [0.6  0.04 0.17 0.23 0.8 ]\n",
      " [0.11 0.04 0.77 0.35 0.27]\n",
      " [0.54 0.2  0.91 0.54 0.21]\n",
      " [0.85 0.1  0.54 0.15 0.42]]\n"
     ]
    }
   ],
   "source": [
    "M = np.round(np.random.rand(5,5),2)\n",
    "print(\"M=\\n\", M)"
   ]
  },
  {
   "cell_type": "markdown",
   "metadata": {},
   "source": [
    "<b>Task:</b> Use `np.triu()` to create a matrix called ```new_M``` which is identical to the matrix```M```, except that in the lower triangle (i.e., all the cells below the diagonal), all values will be zero."
   ]
  },
  {
   "cell_type": "code",
   "execution_count": 143,
   "metadata": {},
   "outputs": [
    {
     "name": "stdout",
     "output_type": "stream",
     "text": [
      "new_M=\n",
      " [[0.26 0.57 0.77 0.36 0.04]\n",
      " [0.   0.04 0.17 0.23 0.8 ]\n",
      " [0.   0.   0.77 0.35 0.27]\n",
      " [0.   0.   0.   0.54 0.21]\n",
      " [0.   0.   0.   0.   0.42]]\n"
     ]
    }
   ],
   "source": [
    "new_M = np.triu(M, 0)\n",
    "print(\"new_M=\\n\", new_M)"
   ]
  },
  {
   "cell_type": "markdown",
   "metadata": {},
   "source": [
    "<b>Task:</b> Using the code provided above for generating the matrix ```M```, try creating a matrix with 13 rows and 3 columns containing random numbers. Save the resulting matrix to the variable `random_M`."
   ]
  },
  {
   "cell_type": "code",
   "execution_count": 144,
   "metadata": {},
   "outputs": [
    {
     "name": "stdout",
     "output_type": "stream",
     "text": [
      "random_M= \n",
      " [[0.5164775  0.93829084 0.98522116]\n",
      " [0.09969037 0.40543067 0.23042672]\n",
      " [0.72049425 0.49641295 0.69164305]\n",
      " [0.55784247 0.29034946 0.41814643]\n",
      " [0.42386924 0.01385563 0.09029499]\n",
      " [0.89217811 0.81024449 0.90537754]\n",
      " [0.71892209 0.94423918 0.89495129]\n",
      " [0.11002069 0.80915384 0.2726913 ]\n",
      " [0.12787837 0.75522699 0.13603053]\n",
      " [0.20298224 0.98512227 0.92222126]\n",
      " [0.24503489 0.90594565 0.59239971]\n",
      " [0.75877774 0.4675246  0.03319242]\n",
      " [0.20567026 0.39784891 0.09322639]]\n"
     ]
    }
   ],
   "source": [
    "random_M = np.random.rand(13,3)\n",
    "print(\"random_M= \\n\", random_M)"
   ]
  },
  {
   "cell_type": "markdown",
   "metadata": {},
   "source": [
    "### j. Indexing and slicing two-dimensional NumPy arrays"
   ]
  },
  {
   "cell_type": "markdown",
   "metadata": {},
   "source": [
    "The code cell below extracts an element of a two-dimensional NumPy array by indexing into the array by specifying its location. Just like Python lists, NumPy arrays use 0-based indexing."
   ]
  },
  {
   "cell_type": "code",
   "execution_count": 145,
   "metadata": {},
   "outputs": [
    {
     "data": {
      "text/plain": [
       "np.float64(0.41814643200620893)"
      ]
     },
     "execution_count": 145,
     "metadata": {},
     "output_type": "execute_result"
    }
   ],
   "source": [
    "random_M[3][2]"
   ]
  },
  {
   "cell_type": "markdown",
   "metadata": {},
   "source": [
    "You can also use the following syntax to achieve the same result."
   ]
  },
  {
   "cell_type": "code",
   "execution_count": 146,
   "metadata": {},
   "outputs": [
    {
     "data": {
      "text/plain": [
       "np.float64(0.41814643200620893)"
      ]
     },
     "execution_count": 146,
     "metadata": {},
     "output_type": "execute_result"
    }
   ],
   "source": [
    "random_M[3,2]"
   ]
  },
  {
   "cell_type": "markdown",
   "metadata": {},
   "source": [
    "You learned how to slice a Pandas DataFrames. You can use the same techniques to slice a NumPy array. \n",
    "\n",
    "\n",
    "<b>Task:</b> In the code cell below, use slicing to obtain the rows with the index 3 through 5 in `random_M`."
   ]
  },
  {
   "cell_type": "code",
   "execution_count": 147,
   "metadata": {},
   "outputs": [
    {
     "data": {
      "text/plain": [
       "np.float64(0.09029499367215288)"
      ]
     },
     "execution_count": 147,
     "metadata": {},
     "output_type": "execute_result"
    }
   ],
   "source": [
    "random_M[4,2]\n"
   ]
  },
  {
   "cell_type": "markdown",
   "metadata": {},
   "source": [
    "<b>Task:</b> In the code cell below, use slicing to obtain all of the rows in the second column (column has the index of 1) of `random_M`."
   ]
  },
  {
   "cell_type": "code",
   "execution_count": 148,
   "metadata": {},
   "outputs": [
    {
     "data": {
      "text/plain": [
       "array([0.09969037, 0.40543067, 0.23042672])"
      ]
     },
     "execution_count": 148,
     "metadata": {},
     "output_type": "execute_result"
    }
   ],
   "source": [
    "random_M[1]\n"
   ]
  },
  {
   "cell_type": "markdown",
   "metadata": {},
   "source": [
    "<b>Task:</b> Use the code cell below to perform slicing on `random_M` to obtain a portion of the array of your choosing."
   ]
  },
  {
   "cell_type": "code",
   "execution_count": 149,
   "metadata": {},
   "outputs": [
    {
     "data": {
      "text/plain": [
       "np.float64(0.49641295284342823)"
      ]
     },
     "execution_count": 149,
     "metadata": {},
     "output_type": "execute_result"
    }
   ],
   "source": [
    "random_M[2,1]\n"
   ]
  },
  {
   "cell_type": "markdown",
   "metadata": {},
   "source": [
    "### k. Evaluating a Boolean condition"
   ]
  },
  {
   "cell_type": "markdown",
   "metadata": {},
   "source": [
    "In real-life data tasks, you will often have to compute the boolean ```(True/False)``` value of some statement for all entries in a given NumPy array. You will formulate a condition &mdash; think of it as a *test* &mdash; and run a computation that returns `True` or `False` depending on whether the test passed or failed by a particular value in the array.\n",
    "\n",
    "The condition may be something like \"the value is greater than 0.5\". You would like to know if this is true or false for every value in  the array. \n",
    "\n",
    "The code cells below demonstrates how to perform such a task on NumPy arrays.\n",
    "\n",
    "First, we will create the array:"
   ]
  },
  {
   "cell_type": "code",
   "execution_count": 150,
   "metadata": {},
   "outputs": [
    {
     "name": "stdout",
     "output_type": "stream",
     "text": [
      "[[0.4293845  0.6832019  0.93993501 0.44123053 0.31282675 0.94873756\n",
      "  0.69589361 0.60826585 0.18032554 0.15354375 0.10757519 0.55964126\n",
      "  0.29908199 0.25950056 0.56437513 0.54638904 0.08787249 0.90044017\n",
      "  0.56484545 0.55287724]]\n"
     ]
    }
   ],
   "source": [
    "our_array = np.random.rand(1, 20)\n",
    "print(our_array)"
   ]
  },
  {
   "cell_type": "markdown",
   "metadata": {},
   "source": [
    "Next, we will apply a condition to the array:"
   ]
  },
  {
   "cell_type": "code",
   "execution_count": 151,
   "metadata": {},
   "outputs": [
    {
     "name": "stdout",
     "output_type": "stream",
     "text": [
      "[[False  True  True False False  True  True  True False False False  True\n",
      "  False False  True  True False  True  True  True]]\n"
     ]
    }
   ],
   "source": [
    "is_greater = our_array > 0.5\n",
    "print(is_greater)"
   ]
  },
  {
   "cell_type": "markdown",
   "metadata": {},
   "source": [
    "Let's apply this technique to our matrix `random_M`. Let's inspect the matrix again as a refresher."
   ]
  },
  {
   "cell_type": "code",
   "execution_count": 152,
   "metadata": {},
   "outputs": [
    {
     "name": "stdout",
     "output_type": "stream",
     "text": [
      "[[0.5164775  0.93829084 0.98522116]\n",
      " [0.09969037 0.40543067 0.23042672]\n",
      " [0.72049425 0.49641295 0.69164305]\n",
      " [0.55784247 0.29034946 0.41814643]\n",
      " [0.42386924 0.01385563 0.09029499]\n",
      " [0.89217811 0.81024449 0.90537754]\n",
      " [0.71892209 0.94423918 0.89495129]\n",
      " [0.11002069 0.80915384 0.2726913 ]\n",
      " [0.12787837 0.75522699 0.13603053]\n",
      " [0.20298224 0.98512227 0.92222126]\n",
      " [0.24503489 0.90594565 0.59239971]\n",
      " [0.75877774 0.4675246  0.03319242]\n",
      " [0.20567026 0.39784891 0.09322639]]\n"
     ]
    }
   ],
   "source": [
    "print(random_M)"
   ]
  },
  {
   "cell_type": "markdown",
   "metadata": {},
   "source": [
    "<b>Task:</b> In the code cell below, determine whether the value of every element in the second column of `random_M` is greater than 0.5. Save the result to the variable `is_greater`."
   ]
  },
  {
   "cell_type": "code",
   "execution_count": 153,
   "metadata": {},
   "outputs": [
    {
     "name": "stdout",
     "output_type": "stream",
     "text": [
      "[[ True  True  True]\n",
      " [False False False]\n",
      " [ True False  True]\n",
      " [ True False False]\n",
      " [False False False]\n",
      " [ True  True  True]\n",
      " [ True  True  True]\n",
      " [False  True False]\n",
      " [False  True False]\n",
      " [False  True  True]\n",
      " [False  True  True]\n",
      " [ True False False]\n",
      " [False False False]]\n"
     ]
    }
   ],
   "source": [
    "is_greater = random_M > 0.5\n",
    "print(is_greater)"
   ]
  },
  {
   "cell_type": "markdown",
   "metadata": {},
   "source": [
    "We can use the function `np.any()` to determine if there is any element in a NumPy array that is True. Let us apply this to the array `is_greater` above. Using this function we can easily determine that indeed there are values greater than 0.5 in the second row of `random_M`."
   ]
  },
  {
   "cell_type": "code",
   "execution_count": 154,
   "metadata": {},
   "outputs": [
    {
     "data": {
      "text/plain": [
       "np.True_"
      ]
     },
     "execution_count": 154,
     "metadata": {},
     "output_type": "execute_result"
    }
   ],
   "source": [
    "np.any(is_greater)"
   ]
  },
  {
   "cell_type": "markdown",
   "metadata": {},
   "source": [
    "Let's apply `np.any()` to another condition. \n",
    "\n",
    "<b>Task:</b> Use `np.any()` along with a conditional statement to determine if any value in the third row of `random_M` is less than .1."
   ]
  },
  {
   "cell_type": "code",
   "execution_count": 155,
   "metadata": {},
   "outputs": [
    {
     "data": {
      "text/plain": [
       "np.False_"
      ]
     },
     "execution_count": 155,
     "metadata": {},
     "output_type": "execute_result"
    }
   ],
   "source": [
    "# Using np.any() and conditional statement to determine if any value in the third row of random_M is less than .1.\n",
    "np.any(random_M[2] < .1)"
   ]
  },
  {
   "cell_type": "markdown",
   "metadata": {},
   "source": [
    "## Practice Working With Pandas DataFrames"
   ]
  },
  {
   "cell_type": "markdown",
   "metadata": {},
   "source": [
    "### a. Creating a DataFrame: two (of the many) ways"
   ]
  },
  {
   "cell_type": "markdown",
   "metadata": {},
   "source": [
    "The code cells below demonstrate how we can create Pandas DataFrames in two ways: \n",
    "\n",
    "1. From a *list of lists*\n",
    "2. From a *dictionary*\n",
    "\n",
    "First, the cell below creates a DataFrame from a list containing phone numbers and their country codes. The DataFrame is named `df`. Run the cell below to inspect the DataFrame `df` that was created."
   ]
  },
  {
   "cell_type": "code",
   "execution_count": 156,
   "metadata": {},
   "outputs": [
    {
     "name": "stdout",
     "output_type": "stream",
     "text": [
      "  country_code           phone\n",
      "0           +1  (929)-000-0000\n",
      "1          +34  (917)-000-0000\n",
      "2           +7  (470)-000-0000\n"
     ]
    }
   ],
   "source": [
    "my_list = [['+1', '(929)-000-0000'], ['+34', '(917)-000-0000'], ['+7', '(470)-000-0000']]\n",
    "\n",
    "df = pd.DataFrame(my_list, columns = ['country_code', 'phone'])\n",
    "print (df)"
   ]
  },
  {
   "cell_type": "markdown",
   "metadata": {},
   "source": [
    "Second, the cell below creates a DataFrame from a dictionary that contains the same information as the list above. The dictionary contains phone numbers and their country codes. Run the cell below to inspect the DataFrame `df_from_dict` that was created from the dictionary. Notice that both DataFrames `df` and `df_from_dict` contain the same values."
   ]
  },
  {
   "cell_type": "code",
   "execution_count": 157,
   "metadata": {},
   "outputs": [
    {
     "data": {
      "text/html": [
       "<div>\n",
       "<style scoped>\n",
       "    .dataframe tbody tr th:only-of-type {\n",
       "        vertical-align: middle;\n",
       "    }\n",
       "\n",
       "    .dataframe tbody tr th {\n",
       "        vertical-align: top;\n",
       "    }\n",
       "\n",
       "    .dataframe thead th {\n",
       "        text-align: right;\n",
       "    }\n",
       "</style>\n",
       "<table border=\"1\" class=\"dataframe\">\n",
       "  <thead>\n",
       "    <tr style=\"text-align: right;\">\n",
       "      <th></th>\n",
       "      <th>country_code</th>\n",
       "      <th>phone</th>\n",
       "    </tr>\n",
       "  </thead>\n",
       "  <tbody>\n",
       "    <tr>\n",
       "      <th>0</th>\n",
       "      <td>+1</td>\n",
       "      <td>(929)-000-0000</td>\n",
       "    </tr>\n",
       "    <tr>\n",
       "      <th>1</th>\n",
       "      <td>+34</td>\n",
       "      <td>(917)-000-0000</td>\n",
       "    </tr>\n",
       "    <tr>\n",
       "      <th>2</th>\n",
       "      <td>+7</td>\n",
       "      <td>(470)-000-0000</td>\n",
       "    </tr>\n",
       "  </tbody>\n",
       "</table>\n",
       "</div>"
      ],
      "text/plain": [
       "  country_code           phone\n",
       "0           +1  (929)-000-0000\n",
       "1          +34  (917)-000-0000\n",
       "2           +7  (470)-000-0000"
      ]
     },
     "execution_count": 157,
     "metadata": {},
     "output_type": "execute_result"
    }
   ],
   "source": [
    "my_dict = {'country_code': ['+1', '+34', '+7'], 'phone':['(929)-000-0000', '(917)-000-0000', '(470)-000-0000']}\n",
    "\n",
    "df_from_dict = pd.DataFrame(my_dict)\n",
    "df_from_dict"
   ]
  },
  {
   "cell_type": "markdown",
   "metadata": {},
   "source": [
    "### b. Adding a column to a DataFrame object"
   ]
  },
  {
   "cell_type": "markdown",
   "metadata": {},
   "source": [
    "We are going to continue working with the DataFrame `df` that was created above. The code cell below adds a new column of values to `df`. Run the cell and inspect the DataFrame to see the new column that was added."
   ]
  },
  {
   "cell_type": "code",
   "execution_count": 158,
   "metadata": {},
   "outputs": [
    {
     "data": {
      "text/html": [
       "<div>\n",
       "<style scoped>\n",
       "    .dataframe tbody tr th:only-of-type {\n",
       "        vertical-align: middle;\n",
       "    }\n",
       "\n",
       "    .dataframe tbody tr th {\n",
       "        vertical-align: top;\n",
       "    }\n",
       "\n",
       "    .dataframe thead th {\n",
       "        text-align: right;\n",
       "    }\n",
       "</style>\n",
       "<table border=\"1\" class=\"dataframe\">\n",
       "  <thead>\n",
       "    <tr style=\"text-align: right;\">\n",
       "      <th></th>\n",
       "      <th>country_code</th>\n",
       "      <th>phone</th>\n",
       "      <th>grade</th>\n",
       "    </tr>\n",
       "  </thead>\n",
       "  <tbody>\n",
       "    <tr>\n",
       "      <th>0</th>\n",
       "      <td>+1</td>\n",
       "      <td>(929)-000-0000</td>\n",
       "      <td>A</td>\n",
       "    </tr>\n",
       "    <tr>\n",
       "      <th>1</th>\n",
       "      <td>+34</td>\n",
       "      <td>(917)-000-0000</td>\n",
       "      <td>B</td>\n",
       "    </tr>\n",
       "    <tr>\n",
       "      <th>2</th>\n",
       "      <td>+7</td>\n",
       "      <td>(470)-000-0000</td>\n",
       "      <td>A</td>\n",
       "    </tr>\n",
       "  </tbody>\n",
       "</table>\n",
       "</div>"
      ],
      "text/plain": [
       "  country_code           phone grade\n",
       "0           +1  (929)-000-0000     A\n",
       "1          +34  (917)-000-0000     B\n",
       "2           +7  (470)-000-0000     A"
      ]
     },
     "execution_count": 158,
     "metadata": {},
     "output_type": "execute_result"
    }
   ],
   "source": [
    "df['grade']= ['A','B','A']\n",
    "df"
   ]
  },
  {
   "cell_type": "markdown",
   "metadata": {},
   "source": [
    "<b>Task:</b> In the cell below, create a new column in DataFrame `df` that contains the names of individuals.\n",
    "\n",
    "* First, create a list containing three names of your choosing. \n",
    "* Next, create a new column in `df` called `names` by using the list you created."
   ]
  },
  {
   "cell_type": "code",
   "execution_count": 159,
   "metadata": {},
   "outputs": [
    {
     "name": "stdout",
     "output_type": "stream",
     "text": [
      "  country_code           phone grade names\n",
      "0           +1  (929)-000-0000     A   Anu\n",
      "1          +34  (917)-000-0000     B   Ayo\n",
      "2           +7  (470)-000-0000     A  Tolu\n"
     ]
    }
   ],
   "source": [
    "# Create a new column in df called names\n",
    "df['names'] = ['Anu', 'Ayo', 'Tolu']\n",
    "print(df)"
   ]
  },
  {
   "cell_type": "markdown",
   "metadata": {},
   "source": [
    "### c. Sorting the DataFrame by values in a specific column"
   ]
  },
  {
   "cell_type": "markdown",
   "metadata": {},
   "source": [
    "The `df.sort_values()` method sorts a DataFrame by the specified column. The code cell below will use `df.sort_values()` to sort DataFrame`df` by the values contained in column `grade`. The original DataFrame `df` will not be changed, so we will assign the resulting DataFrame to variable `df` to update the values in the DataFrame."
   ]
  },
  {
   "cell_type": "code",
   "execution_count": 160,
   "metadata": {},
   "outputs": [
    {
     "data": {
      "text/html": [
       "<div>\n",
       "<style scoped>\n",
       "    .dataframe tbody tr th:only-of-type {\n",
       "        vertical-align: middle;\n",
       "    }\n",
       "\n",
       "    .dataframe tbody tr th {\n",
       "        vertical-align: top;\n",
       "    }\n",
       "\n",
       "    .dataframe thead th {\n",
       "        text-align: right;\n",
       "    }\n",
       "</style>\n",
       "<table border=\"1\" class=\"dataframe\">\n",
       "  <thead>\n",
       "    <tr style=\"text-align: right;\">\n",
       "      <th></th>\n",
       "      <th>country_code</th>\n",
       "      <th>phone</th>\n",
       "      <th>grade</th>\n",
       "      <th>names</th>\n",
       "    </tr>\n",
       "  </thead>\n",
       "  <tbody>\n",
       "    <tr>\n",
       "      <th>0</th>\n",
       "      <td>+1</td>\n",
       "      <td>(929)-000-0000</td>\n",
       "      <td>A</td>\n",
       "      <td>Anu</td>\n",
       "    </tr>\n",
       "    <tr>\n",
       "      <th>2</th>\n",
       "      <td>+7</td>\n",
       "      <td>(470)-000-0000</td>\n",
       "      <td>A</td>\n",
       "      <td>Tolu</td>\n",
       "    </tr>\n",
       "    <tr>\n",
       "      <th>1</th>\n",
       "      <td>+34</td>\n",
       "      <td>(917)-000-0000</td>\n",
       "      <td>B</td>\n",
       "      <td>Ayo</td>\n",
       "    </tr>\n",
       "  </tbody>\n",
       "</table>\n",
       "</div>"
      ],
      "text/plain": [
       "  country_code           phone grade names\n",
       "0           +1  (929)-000-0000     A   Anu\n",
       "2           +7  (470)-000-0000     A  Tolu\n",
       "1          +34  (917)-000-0000     B   Ayo"
      ]
     },
     "execution_count": 160,
     "metadata": {},
     "output_type": "execute_result"
    }
   ],
   "source": [
    "df = df.sort_values(['grade'])\n",
    "df"
   ]
  },
  {
   "cell_type": "markdown",
   "metadata": {},
   "source": [
    "### d. Combining multiple DataFrames  and renaming  columns with `df.rename()`"
   ]
  },
  {
   "cell_type": "markdown",
   "metadata": {},
   "source": [
    "In real life settings, you will often need to combine separate sets of related data. Two functions used for this purpose are `pd.concat()` and `pd.merge()`.\n",
    "\n",
    "\n",
    "To illustrate, let's create a new DataFrame. The code cell below creates a new DataFrame `df2` that also contains phone numbers, their country codes and a grade. Run the cell and inspect the new DataFrame that was created."
   ]
  },
  {
   "cell_type": "code",
   "execution_count": 161,
   "metadata": {},
   "outputs": [
    {
     "data": {
      "text/html": [
       "<div>\n",
       "<style scoped>\n",
       "    .dataframe tbody tr th:only-of-type {\n",
       "        vertical-align: middle;\n",
       "    }\n",
       "\n",
       "    .dataframe tbody tr th {\n",
       "        vertical-align: top;\n",
       "    }\n",
       "\n",
       "    .dataframe thead th {\n",
       "        text-align: right;\n",
       "    }\n",
       "</style>\n",
       "<table border=\"1\" class=\"dataframe\">\n",
       "  <thead>\n",
       "    <tr style=\"text-align: right;\">\n",
       "      <th></th>\n",
       "      <th>country</th>\n",
       "      <th>grade</th>\n",
       "      <th>phone</th>\n",
       "    </tr>\n",
       "  </thead>\n",
       "  <tbody>\n",
       "    <tr>\n",
       "      <th>0</th>\n",
       "      <td>+32</td>\n",
       "      <td>B</td>\n",
       "      <td>(874)-444-0000</td>\n",
       "    </tr>\n",
       "    <tr>\n",
       "      <th>1</th>\n",
       "      <td>+81</td>\n",
       "      <td>B+</td>\n",
       "      <td>(313)-003-1000</td>\n",
       "    </tr>\n",
       "    <tr>\n",
       "      <th>2</th>\n",
       "      <td>+11</td>\n",
       "      <td>A</td>\n",
       "      <td>(990)-006-0660</td>\n",
       "    </tr>\n",
       "  </tbody>\n",
       "</table>\n",
       "</div>"
      ],
      "text/plain": [
       "  country grade           phone\n",
       "0     +32     B  (874)-444-0000\n",
       "1     +81    B+  (313)-003-1000\n",
       "2     +11     A  (990)-006-0660"
      ]
     },
     "execution_count": 161,
     "metadata": {},
     "output_type": "execute_result"
    }
   ],
   "source": [
    "my_dict2 = {'country': ['+32', '+81', '+11'], 'grade':['B', 'B+', 'A'], 'phone':['(874)-444-0000', '(313)-003-1000', '(990)-006-0660']}\n",
    "\n",
    "df2 = pd.DataFrame(my_dict2)\n",
    "df2"
   ]
  },
  {
   "cell_type": "markdown",
   "metadata": {},
   "source": [
    "The code cell below uses the Pandas ```pd.concat()``` function to append `df2` to `df`. The `pd.concat()` function will not change the values in the original DataFrames, so we will save the newly formed DataFrame to variable `df_concat`. "
   ]
  },
  {
   "cell_type": "code",
   "execution_count": 162,
   "metadata": {},
   "outputs": [
    {
     "data": {
      "text/html": [
       "<div>\n",
       "<style scoped>\n",
       "    .dataframe tbody tr th:only-of-type {\n",
       "        vertical-align: middle;\n",
       "    }\n",
       "\n",
       "    .dataframe tbody tr th {\n",
       "        vertical-align: top;\n",
       "    }\n",
       "\n",
       "    .dataframe thead th {\n",
       "        text-align: right;\n",
       "    }\n",
       "</style>\n",
       "<table border=\"1\" class=\"dataframe\">\n",
       "  <thead>\n",
       "    <tr style=\"text-align: right;\">\n",
       "      <th></th>\n",
       "      <th>country_code</th>\n",
       "      <th>phone</th>\n",
       "      <th>grade</th>\n",
       "      <th>names</th>\n",
       "      <th>country</th>\n",
       "    </tr>\n",
       "  </thead>\n",
       "  <tbody>\n",
       "    <tr>\n",
       "      <th>0</th>\n",
       "      <td>+1</td>\n",
       "      <td>(929)-000-0000</td>\n",
       "      <td>A</td>\n",
       "      <td>Anu</td>\n",
       "      <td>NaN</td>\n",
       "    </tr>\n",
       "    <tr>\n",
       "      <th>2</th>\n",
       "      <td>+7</td>\n",
       "      <td>(470)-000-0000</td>\n",
       "      <td>A</td>\n",
       "      <td>Tolu</td>\n",
       "      <td>NaN</td>\n",
       "    </tr>\n",
       "    <tr>\n",
       "      <th>1</th>\n",
       "      <td>+34</td>\n",
       "      <td>(917)-000-0000</td>\n",
       "      <td>B</td>\n",
       "      <td>Ayo</td>\n",
       "      <td>NaN</td>\n",
       "    </tr>\n",
       "    <tr>\n",
       "      <th>0</th>\n",
       "      <td>NaN</td>\n",
       "      <td>(874)-444-0000</td>\n",
       "      <td>B</td>\n",
       "      <td>NaN</td>\n",
       "      <td>+32</td>\n",
       "    </tr>\n",
       "    <tr>\n",
       "      <th>1</th>\n",
       "      <td>NaN</td>\n",
       "      <td>(313)-003-1000</td>\n",
       "      <td>B+</td>\n",
       "      <td>NaN</td>\n",
       "      <td>+81</td>\n",
       "    </tr>\n",
       "    <tr>\n",
       "      <th>2</th>\n",
       "      <td>NaN</td>\n",
       "      <td>(990)-006-0660</td>\n",
       "      <td>A</td>\n",
       "      <td>NaN</td>\n",
       "      <td>+11</td>\n",
       "    </tr>\n",
       "  </tbody>\n",
       "</table>\n",
       "</div>"
      ],
      "text/plain": [
       "  country_code           phone grade names country\n",
       "0           +1  (929)-000-0000     A   Anu     NaN\n",
       "2           +7  (470)-000-0000     A  Tolu     NaN\n",
       "1          +34  (917)-000-0000     B   Ayo     NaN\n",
       "0          NaN  (874)-444-0000     B   NaN     +32\n",
       "1          NaN  (313)-003-1000    B+   NaN     +81\n",
       "2          NaN  (990)-006-0660     A   NaN     +11"
      ]
     },
     "execution_count": 162,
     "metadata": {},
     "output_type": "execute_result"
    }
   ],
   "source": [
    "df_concat = pd.concat([df,df2])\n",
    "df_concat"
   ]
  },
  {
   "cell_type": "markdown",
   "metadata": {},
   "source": [
    "Notice that the new DataFrame `df_concat` contains two columns containing country codes. This is because the two original DataFrames contained different spellings for the columns. \n",
    "\n",
    "\n",
    "We can easily fix this by changing the name of the column in DataFrame `df2` to be consistent with the name of the column in DataFrame `df`."
   ]
  },
  {
   "cell_type": "code",
   "execution_count": 163,
   "metadata": {},
   "outputs": [
    {
     "data": {
      "text/html": [
       "<div>\n",
       "<style scoped>\n",
       "    .dataframe tbody tr th:only-of-type {\n",
       "        vertical-align: middle;\n",
       "    }\n",
       "\n",
       "    .dataframe tbody tr th {\n",
       "        vertical-align: top;\n",
       "    }\n",
       "\n",
       "    .dataframe thead th {\n",
       "        text-align: right;\n",
       "    }\n",
       "</style>\n",
       "<table border=\"1\" class=\"dataframe\">\n",
       "  <thead>\n",
       "    <tr style=\"text-align: right;\">\n",
       "      <th></th>\n",
       "      <th>country_code</th>\n",
       "      <th>grade</th>\n",
       "      <th>phone</th>\n",
       "    </tr>\n",
       "  </thead>\n",
       "  <tbody>\n",
       "    <tr>\n",
       "      <th>0</th>\n",
       "      <td>+32</td>\n",
       "      <td>B</td>\n",
       "      <td>(874)-444-0000</td>\n",
       "    </tr>\n",
       "    <tr>\n",
       "      <th>1</th>\n",
       "      <td>+81</td>\n",
       "      <td>B+</td>\n",
       "      <td>(313)-003-1000</td>\n",
       "    </tr>\n",
       "    <tr>\n",
       "      <th>2</th>\n",
       "      <td>+11</td>\n",
       "      <td>A</td>\n",
       "      <td>(990)-006-0660</td>\n",
       "    </tr>\n",
       "  </tbody>\n",
       "</table>\n",
       "</div>"
      ],
      "text/plain": [
       "  country_code grade           phone\n",
       "0          +32     B  (874)-444-0000\n",
       "1          +81    B+  (313)-003-1000\n",
       "2          +11     A  (990)-006-0660"
      ]
     },
     "execution_count": 163,
     "metadata": {},
     "output_type": "execute_result"
    }
   ],
   "source": [
    "df2 = df2.rename(columns={'country':'country_code'})\n",
    "df2"
   ]
  },
  {
   "cell_type": "markdown",
   "metadata": {},
   "source": [
    "<b>Task</b>: In the cell below, run the `pd.concat()` function again to concatenate DataFrames `df` and `df2` and save the resulting DataFrame to variable `df_concat2`. Run the cell and inspect the results."
   ]
  },
  {
   "cell_type": "code",
   "execution_count": 164,
   "metadata": {},
   "outputs": [
    {
     "name": "stdout",
     "output_type": "stream",
     "text": [
      "  country_code           phone grade names\n",
      "0           +1  (929)-000-0000     A   Anu\n",
      "2           +7  (470)-000-0000     A  Tolu\n",
      "1          +34  (917)-000-0000     B   Ayo\n",
      "0          +32  (874)-444-0000     B   NaN\n",
      "1          +81  (313)-003-1000    B+   NaN\n",
      "2          +11  (990)-006-0660     A   NaN\n"
     ]
    }
   ],
   "source": [
    "# concatenate DataFrames df and df2\n",
    "df_concat2 = pd.concat([df,df2])\n",
    "print(df_concat2)"
   ]
  },
  {
   "cell_type": "markdown",
   "metadata": {},
   "source": [
    "One other problem is that the index has repeated values. This defeats the purpose of an index, and ought to be fixed. Let's try the concatenation again, this time adding `reset_index()` method to produce correct results:"
   ]
  },
  {
   "cell_type": "code",
   "execution_count": 165,
   "metadata": {},
   "outputs": [
    {
     "data": {
      "text/html": [
       "<div>\n",
       "<style scoped>\n",
       "    .dataframe tbody tr th:only-of-type {\n",
       "        vertical-align: middle;\n",
       "    }\n",
       "\n",
       "    .dataframe tbody tr th {\n",
       "        vertical-align: top;\n",
       "    }\n",
       "\n",
       "    .dataframe thead th {\n",
       "        text-align: right;\n",
       "    }\n",
       "</style>\n",
       "<table border=\"1\" class=\"dataframe\">\n",
       "  <thead>\n",
       "    <tr style=\"text-align: right;\">\n",
       "      <th></th>\n",
       "      <th>index</th>\n",
       "      <th>country_code</th>\n",
       "      <th>phone</th>\n",
       "      <th>grade</th>\n",
       "      <th>names</th>\n",
       "    </tr>\n",
       "  </thead>\n",
       "  <tbody>\n",
       "    <tr>\n",
       "      <th>0</th>\n",
       "      <td>0</td>\n",
       "      <td>+1</td>\n",
       "      <td>(929)-000-0000</td>\n",
       "      <td>A</td>\n",
       "      <td>Anu</td>\n",
       "    </tr>\n",
       "    <tr>\n",
       "      <th>1</th>\n",
       "      <td>2</td>\n",
       "      <td>+7</td>\n",
       "      <td>(470)-000-0000</td>\n",
       "      <td>A</td>\n",
       "      <td>Tolu</td>\n",
       "    </tr>\n",
       "    <tr>\n",
       "      <th>2</th>\n",
       "      <td>1</td>\n",
       "      <td>+34</td>\n",
       "      <td>(917)-000-0000</td>\n",
       "      <td>B</td>\n",
       "      <td>Ayo</td>\n",
       "    </tr>\n",
       "    <tr>\n",
       "      <th>3</th>\n",
       "      <td>0</td>\n",
       "      <td>+32</td>\n",
       "      <td>(874)-444-0000</td>\n",
       "      <td>B</td>\n",
       "      <td>NaN</td>\n",
       "    </tr>\n",
       "    <tr>\n",
       "      <th>4</th>\n",
       "      <td>1</td>\n",
       "      <td>+81</td>\n",
       "      <td>(313)-003-1000</td>\n",
       "      <td>B+</td>\n",
       "      <td>NaN</td>\n",
       "    </tr>\n",
       "    <tr>\n",
       "      <th>5</th>\n",
       "      <td>2</td>\n",
       "      <td>+11</td>\n",
       "      <td>(990)-006-0660</td>\n",
       "      <td>A</td>\n",
       "      <td>NaN</td>\n",
       "    </tr>\n",
       "  </tbody>\n",
       "</table>\n",
       "</div>"
      ],
      "text/plain": [
       "   index country_code           phone grade names\n",
       "0      0           +1  (929)-000-0000     A   Anu\n",
       "1      2           +7  (470)-000-0000     A  Tolu\n",
       "2      1          +34  (917)-000-0000     B   Ayo\n",
       "3      0          +32  (874)-444-0000     B   NaN\n",
       "4      1          +81  (313)-003-1000    B+   NaN\n",
       "5      2          +11  (990)-006-0660     A   NaN"
      ]
     },
     "execution_count": 165,
     "metadata": {},
     "output_type": "execute_result"
    }
   ],
   "source": [
    "df_concat2 = pd.concat([df,df2]).reset_index()\n",
    "df_concat2"
   ]
  },
  {
   "cell_type": "markdown",
   "metadata": {},
   "source": [
    "Now we have one column for `country_code`. Notice that we have missing values for the names of individuals, since names  were contained in `df` but not in `df2`. In a future unit, you will learn how to deal with missing values."
   ]
  },
  {
   "cell_type": "markdown",
   "metadata": {},
   "source": [
    "What if our task were to merge ```df2``` with yet another dataset &mdash; one that contains additional unique columns? Let's look at DataFrame `df2` again:"
   ]
  },
  {
   "cell_type": "code",
   "execution_count": 166,
   "metadata": {},
   "outputs": [
    {
     "data": {
      "text/html": [
       "<div>\n",
       "<style scoped>\n",
       "    .dataframe tbody tr th:only-of-type {\n",
       "        vertical-align: middle;\n",
       "    }\n",
       "\n",
       "    .dataframe tbody tr th {\n",
       "        vertical-align: top;\n",
       "    }\n",
       "\n",
       "    .dataframe thead th {\n",
       "        text-align: right;\n",
       "    }\n",
       "</style>\n",
       "<table border=\"1\" class=\"dataframe\">\n",
       "  <thead>\n",
       "    <tr style=\"text-align: right;\">\n",
       "      <th></th>\n",
       "      <th>country_code</th>\n",
       "      <th>grade</th>\n",
       "      <th>phone</th>\n",
       "    </tr>\n",
       "  </thead>\n",
       "  <tbody>\n",
       "    <tr>\n",
       "      <th>0</th>\n",
       "      <td>+32</td>\n",
       "      <td>B</td>\n",
       "      <td>(874)-444-0000</td>\n",
       "    </tr>\n",
       "    <tr>\n",
       "      <th>1</th>\n",
       "      <td>+81</td>\n",
       "      <td>B+</td>\n",
       "      <td>(313)-003-1000</td>\n",
       "    </tr>\n",
       "    <tr>\n",
       "      <th>2</th>\n",
       "      <td>+11</td>\n",
       "      <td>A</td>\n",
       "      <td>(990)-006-0660</td>\n",
       "    </tr>\n",
       "  </tbody>\n",
       "</table>\n",
       "</div>"
      ],
      "text/plain": [
       "  country_code grade           phone\n",
       "0          +32     B  (874)-444-0000\n",
       "1          +81    B+  (313)-003-1000\n",
       "2          +11     A  (990)-006-0660"
      ]
     },
     "execution_count": 166,
     "metadata": {},
     "output_type": "execute_result"
    }
   ],
   "source": [
    "df2"
   ]
  },
  {
   "cell_type": "markdown",
   "metadata": {},
   "source": [
    "The code cell below creates a new DataFrame `df3`."
   ]
  },
  {
   "cell_type": "code",
   "execution_count": 167,
   "metadata": {},
   "outputs": [
    {
     "data": {
      "text/html": [
       "<div>\n",
       "<style scoped>\n",
       "    .dataframe tbody tr th:only-of-type {\n",
       "        vertical-align: middle;\n",
       "    }\n",
       "\n",
       "    .dataframe tbody tr th {\n",
       "        vertical-align: top;\n",
       "    }\n",
       "\n",
       "    .dataframe thead th {\n",
       "        text-align: right;\n",
       "    }\n",
       "</style>\n",
       "<table border=\"1\" class=\"dataframe\">\n",
       "  <thead>\n",
       "    <tr style=\"text-align: right;\">\n",
       "      <th></th>\n",
       "      <th>country_code</th>\n",
       "      <th>phone</th>\n",
       "      <th>grade</th>\n",
       "      <th>n_credits</th>\n",
       "    </tr>\n",
       "  </thead>\n",
       "  <tbody>\n",
       "    <tr>\n",
       "      <th>0</th>\n",
       "      <td>+32</td>\n",
       "      <td>(874)-444-0000</td>\n",
       "      <td>B</td>\n",
       "      <td>12</td>\n",
       "    </tr>\n",
       "    <tr>\n",
       "      <th>1</th>\n",
       "      <td>+44</td>\n",
       "      <td>(575)-755-1000</td>\n",
       "      <td>B+</td>\n",
       "      <td>3</td>\n",
       "    </tr>\n",
       "    <tr>\n",
       "      <th>2</th>\n",
       "      <td>+11</td>\n",
       "      <td>(990)-006-0660</td>\n",
       "      <td>A</td>\n",
       "      <td>9</td>\n",
       "    </tr>\n",
       "  </tbody>\n",
       "</table>\n",
       "</div>"
      ],
      "text/plain": [
       "  country_code           phone grade  n_credits\n",
       "0          +32  (874)-444-0000     B         12\n",
       "1          +44  (575)-755-1000    B+          3\n",
       "2          +11  (990)-006-0660     A          9"
      ]
     },
     "execution_count": 167,
     "metadata": {},
     "output_type": "execute_result"
    }
   ],
   "source": [
    "my_dict3 = {'country_code': ['+32', '+44', '+11'], 'phone':['(874)-444-0000', '(575)-755-1000', '(990)-006-0660'], 'grade':['B', 'B+', 'A'], 'n_credits': [12, 3, 9]}\n",
    "\n",
    "df3 = pd.DataFrame(my_dict3)\n",
    "df3"
   ]
  },
  {
   "cell_type": "markdown",
   "metadata": {},
   "source": [
    "The following code cell merges both DataFrames based on the values contained in the `phone` column. If one column in both DataFrames contains the same value, the rows in which the value appears are merged. Otherwise, the row will not be included in the updated DataFrame. Run the code cell below and inspect the results. Note that the values in DataFrame `df2` will be automatically changed by `merge()`. "
   ]
  },
  {
   "cell_type": "code",
   "execution_count": 168,
   "metadata": {},
   "outputs": [
    {
     "data": {
      "text/html": [
       "<div>\n",
       "<style scoped>\n",
       "    .dataframe tbody tr th:only-of-type {\n",
       "        vertical-align: middle;\n",
       "    }\n",
       "\n",
       "    .dataframe tbody tr th {\n",
       "        vertical-align: top;\n",
       "    }\n",
       "\n",
       "    .dataframe thead th {\n",
       "        text-align: right;\n",
       "    }\n",
       "</style>\n",
       "<table border=\"1\" class=\"dataframe\">\n",
       "  <thead>\n",
       "    <tr style=\"text-align: right;\">\n",
       "      <th></th>\n",
       "      <th>country_code</th>\n",
       "      <th>grade</th>\n",
       "      <th>phone</th>\n",
       "    </tr>\n",
       "  </thead>\n",
       "  <tbody>\n",
       "    <tr>\n",
       "      <th>0</th>\n",
       "      <td>+32</td>\n",
       "      <td>B</td>\n",
       "      <td>(874)-444-0000</td>\n",
       "    </tr>\n",
       "    <tr>\n",
       "      <th>1</th>\n",
       "      <td>+81</td>\n",
       "      <td>B+</td>\n",
       "      <td>(313)-003-1000</td>\n",
       "    </tr>\n",
       "    <tr>\n",
       "      <th>2</th>\n",
       "      <td>+11</td>\n",
       "      <td>A</td>\n",
       "      <td>(990)-006-0660</td>\n",
       "    </tr>\n",
       "  </tbody>\n",
       "</table>\n",
       "</div>"
      ],
      "text/plain": [
       "  country_code grade           phone\n",
       "0          +32     B  (874)-444-0000\n",
       "1          +81    B+  (313)-003-1000\n",
       "2          +11     A  (990)-006-0660"
      ]
     },
     "execution_count": 168,
     "metadata": {},
     "output_type": "execute_result"
    }
   ],
   "source": [
    "df2.merge(df3, on = 'phone')\n",
    "df2"
   ]
  },
  {
   "cell_type": "markdown",
   "metadata": {},
   "source": [
    "## Practice Working With a Dataset"
   ]
  },
  {
   "cell_type": "markdown",
   "metadata": {},
   "source": [
    "We are now well equipped to deal with a real dataset! Our dataset will contain information about New York City listings on the Airbnb platform.\n",
    "\n",
    "### a. Load the dataset: `pd.read_csv()`\n",
    "\n",
    "The code cell below loads a dataset from a CSV file and saves it to a Pandas DataFrame. \n",
    "\n",
    "First, we will import the `OS` module. This module enables you to interact with the operating system, allowing you access to file names, etc.\n",
    "\n"
   ]
  },
  {
   "cell_type": "code",
   "execution_count": 169,
   "metadata": {},
   "outputs": [],
   "source": [
    "import os "
   ]
  },
  {
   "cell_type": "markdown",
   "metadata": {},
   "source": [
    "Next, we will use the `os.path.join()` method to obtain a path to our data file. This method concatenates different path components (i.e. directories and a file name, into one file system path). We will save the results of this method to the variable name `filename`.\n",
    "\n",
    "Now that we have a path to our CSV file, we will use the `pd.read_csv()` method to load the CSV file into a Pandas DataFrame named `dataFrame`.\n",
    "\n",
    "Examine the code in the cell below and run the cell.\n",
    "\n",
    "<b>Note</b>: the cell below may generate a warning. Ignore the warning. "
   ]
  },
  {
   "cell_type": "code",
   "execution_count": 170,
   "metadata": {},
   "outputs": [],
   "source": [
    "#filename = os.path.join(os.getcwd(), \"data\", \"listings.csv\") \n",
    "dataFrame = pd.read_csv('listings.csv')"
   ]
  },
  {
   "cell_type": "code",
   "execution_count": 171,
   "metadata": {},
   "outputs": [
    {
     "data": {
      "text/plain": [
       "(38199, 75)"
      ]
     },
     "execution_count": 171,
     "metadata": {},
     "output_type": "execute_result"
    }
   ],
   "source": [
    "dataFrame.shape"
   ]
  },
  {
   "cell_type": "markdown",
   "metadata": {},
   "source": [
    "First, get a peek at the data:"
   ]
  },
  {
   "cell_type": "code",
   "execution_count": 172,
   "metadata": {},
   "outputs": [
    {
     "data": {
      "text/html": [
       "<div>\n",
       "<style scoped>\n",
       "    .dataframe tbody tr th:only-of-type {\n",
       "        vertical-align: middle;\n",
       "    }\n",
       "\n",
       "    .dataframe tbody tr th {\n",
       "        vertical-align: top;\n",
       "    }\n",
       "\n",
       "    .dataframe thead th {\n",
       "        text-align: right;\n",
       "    }\n",
       "</style>\n",
       "<table border=\"1\" class=\"dataframe\">\n",
       "  <thead>\n",
       "    <tr style=\"text-align: right;\">\n",
       "      <th></th>\n",
       "      <th>id</th>\n",
       "      <th>listing_url</th>\n",
       "      <th>scrape_id</th>\n",
       "      <th>last_scraped</th>\n",
       "      <th>source</th>\n",
       "      <th>name</th>\n",
       "      <th>description</th>\n",
       "      <th>neighborhood_overview</th>\n",
       "      <th>picture_url</th>\n",
       "      <th>host_id</th>\n",
       "      <th>...</th>\n",
       "      <th>review_scores_communication</th>\n",
       "      <th>review_scores_location</th>\n",
       "      <th>review_scores_value</th>\n",
       "      <th>license</th>\n",
       "      <th>instant_bookable</th>\n",
       "      <th>calculated_host_listings_count</th>\n",
       "      <th>calculated_host_listings_count_entire_homes</th>\n",
       "      <th>calculated_host_listings_count_private_rooms</th>\n",
       "      <th>calculated_host_listings_count_shared_rooms</th>\n",
       "      <th>reviews_per_month</th>\n",
       "    </tr>\n",
       "  </thead>\n",
       "  <tbody>\n",
       "    <tr>\n",
       "      <th>0</th>\n",
       "      <td>6713005</td>\n",
       "      <td>https://www.airbnb.com/rooms/6713005</td>\n",
       "      <td>20240503175146</td>\n",
       "      <td>2024-05-04</td>\n",
       "      <td>previous scrape</td>\n",
       "      <td>Large one bedroom</td>\n",
       "      <td>You'll share an apartment with two wonderful y...</td>\n",
       "      <td>NaN</td>\n",
       "      <td>https://a0.muscache.com/pictures/84725702/12f8...</td>\n",
       "      <td>35144920</td>\n",
       "      <td>...</td>\n",
       "      <td>NaN</td>\n",
       "      <td>NaN</td>\n",
       "      <td>NaN</td>\n",
       "      <td>NaN</td>\n",
       "      <td>f</td>\n",
       "      <td>1</td>\n",
       "      <td>0</td>\n",
       "      <td>1</td>\n",
       "      <td>0</td>\n",
       "      <td>NaN</td>\n",
       "    </tr>\n",
       "    <tr>\n",
       "      <th>1</th>\n",
       "      <td>922527181364298444</td>\n",
       "      <td>https://www.airbnb.com/rooms/922527181364298444</td>\n",
       "      <td>20240503175146</td>\n",
       "      <td>2024-05-03</td>\n",
       "      <td>city scrape</td>\n",
       "      <td>New Flushing Modern Apartment</td>\n",
       "      <td>This unique place has a style all its own.</td>\n",
       "      <td>NaN</td>\n",
       "      <td>https://a0.muscache.com/pictures/f5d74ed9-0b15...</td>\n",
       "      <td>420975523</td>\n",
       "      <td>...</td>\n",
       "      <td>5.00</td>\n",
       "      <td>4.45</td>\n",
       "      <td>5.00</td>\n",
       "      <td>NaN</td>\n",
       "      <td>t</td>\n",
       "      <td>3</td>\n",
       "      <td>3</td>\n",
       "      <td>0</td>\n",
       "      <td>0</td>\n",
       "      <td>1.10</td>\n",
       "    </tr>\n",
       "    <tr>\n",
       "      <th>2</th>\n",
       "      <td>794696802406920855</td>\n",
       "      <td>https://www.airbnb.com/rooms/794696802406920855</td>\n",
       "      <td>20240503175146</td>\n",
       "      <td>2024-05-04</td>\n",
       "      <td>previous scrape</td>\n",
       "      <td>Lovely studio in Hell's Kitchen!</td>\n",
       "      <td>Amazing location in the heart of Hell’s Kitche...</td>\n",
       "      <td>NaN</td>\n",
       "      <td>https://a0.muscache.com/pictures/miso/Hosting-...</td>\n",
       "      <td>43305568</td>\n",
       "      <td>...</td>\n",
       "      <td>5.00</td>\n",
       "      <td>4.91</td>\n",
       "      <td>4.91</td>\n",
       "      <td>NaN</td>\n",
       "      <td>f</td>\n",
       "      <td>1</td>\n",
       "      <td>1</td>\n",
       "      <td>0</td>\n",
       "      <td>0</td>\n",
       "      <td>0.69</td>\n",
       "    </tr>\n",
       "    <tr>\n",
       "      <th>3</th>\n",
       "      <td>54294086</td>\n",
       "      <td>https://www.airbnb.com/rooms/54294086</td>\n",
       "      <td>20240503175146</td>\n",
       "      <td>2024-05-03</td>\n",
       "      <td>city scrape</td>\n",
       "      <td>Luxury 1- bedroom rental unit with Hot tub</td>\n",
       "      <td>Relax with the whole family at this peaceful p...</td>\n",
       "      <td>NaN</td>\n",
       "      <td>https://a0.muscache.com/pictures/9613630a-19c4...</td>\n",
       "      <td>440355290</td>\n",
       "      <td>...</td>\n",
       "      <td>NaN</td>\n",
       "      <td>NaN</td>\n",
       "      <td>NaN</td>\n",
       "      <td>NaN</td>\n",
       "      <td>t</td>\n",
       "      <td>1</td>\n",
       "      <td>0</td>\n",
       "      <td>1</td>\n",
       "      <td>0</td>\n",
       "      <td>NaN</td>\n",
       "    </tr>\n",
       "    <tr>\n",
       "      <th>4</th>\n",
       "      <td>1039262508734112133</td>\n",
       "      <td>https://www.airbnb.com/rooms/1039262508734112133</td>\n",
       "      <td>20240503175146</td>\n",
       "      <td>2024-05-04</td>\n",
       "      <td>city scrape</td>\n",
       "      <td>Private room close to LGA</td>\n",
       "      <td>We are located 8 minutes from la guardia airpo...</td>\n",
       "      <td>NaN</td>\n",
       "      <td>https://a0.muscache.com/pictures/hosting/Hosti...</td>\n",
       "      <td>430854617</td>\n",
       "      <td>...</td>\n",
       "      <td>4.74</td>\n",
       "      <td>4.58</td>\n",
       "      <td>4.63</td>\n",
       "      <td>Exempt</td>\n",
       "      <td>t</td>\n",
       "      <td>3</td>\n",
       "      <td>0</td>\n",
       "      <td>3</td>\n",
       "      <td>0</td>\n",
       "      <td>3.77</td>\n",
       "    </tr>\n",
       "  </tbody>\n",
       "</table>\n",
       "<p>5 rows × 75 columns</p>\n",
       "</div>"
      ],
      "text/plain": [
       "                    id                                       listing_url  \\\n",
       "0              6713005              https://www.airbnb.com/rooms/6713005   \n",
       "1   922527181364298444   https://www.airbnb.com/rooms/922527181364298444   \n",
       "2   794696802406920855   https://www.airbnb.com/rooms/794696802406920855   \n",
       "3             54294086             https://www.airbnb.com/rooms/54294086   \n",
       "4  1039262508734112133  https://www.airbnb.com/rooms/1039262508734112133   \n",
       "\n",
       "        scrape_id last_scraped           source  \\\n",
       "0  20240503175146   2024-05-04  previous scrape   \n",
       "1  20240503175146   2024-05-03      city scrape   \n",
       "2  20240503175146   2024-05-04  previous scrape   \n",
       "3  20240503175146   2024-05-03      city scrape   \n",
       "4  20240503175146   2024-05-04      city scrape   \n",
       "\n",
       "                                         name  \\\n",
       "0                           Large one bedroom   \n",
       "1               New Flushing Modern Apartment   \n",
       "2            Lovely studio in Hell's Kitchen!   \n",
       "3  Luxury 1- bedroom rental unit with Hot tub   \n",
       "4                   Private room close to LGA   \n",
       "\n",
       "                                         description neighborhood_overview  \\\n",
       "0  You'll share an apartment with two wonderful y...                   NaN   \n",
       "1         This unique place has a style all its own.                   NaN   \n",
       "2  Amazing location in the heart of Hell’s Kitche...                   NaN   \n",
       "3  Relax with the whole family at this peaceful p...                   NaN   \n",
       "4  We are located 8 minutes from la guardia airpo...                   NaN   \n",
       "\n",
       "                                         picture_url    host_id  ...  \\\n",
       "0  https://a0.muscache.com/pictures/84725702/12f8...   35144920  ...   \n",
       "1  https://a0.muscache.com/pictures/f5d74ed9-0b15...  420975523  ...   \n",
       "2  https://a0.muscache.com/pictures/miso/Hosting-...   43305568  ...   \n",
       "3  https://a0.muscache.com/pictures/9613630a-19c4...  440355290  ...   \n",
       "4  https://a0.muscache.com/pictures/hosting/Hosti...  430854617  ...   \n",
       "\n",
       "  review_scores_communication review_scores_location review_scores_value  \\\n",
       "0                         NaN                    NaN                 NaN   \n",
       "1                        5.00                   4.45                5.00   \n",
       "2                        5.00                   4.91                4.91   \n",
       "3                         NaN                    NaN                 NaN   \n",
       "4                        4.74                   4.58                4.63   \n",
       "\n",
       "  license instant_bookable calculated_host_listings_count  \\\n",
       "0     NaN                f                              1   \n",
       "1     NaN                t                              3   \n",
       "2     NaN                f                              1   \n",
       "3     NaN                t                              1   \n",
       "4  Exempt                t                              3   \n",
       "\n",
       "  calculated_host_listings_count_entire_homes  \\\n",
       "0                                           0   \n",
       "1                                           3   \n",
       "2                                           1   \n",
       "3                                           0   \n",
       "4                                           0   \n",
       "\n",
       "  calculated_host_listings_count_private_rooms  \\\n",
       "0                                            1   \n",
       "1                                            0   \n",
       "2                                            0   \n",
       "3                                            1   \n",
       "4                                            3   \n",
       "\n",
       "  calculated_host_listings_count_shared_rooms reviews_per_month  \n",
       "0                                           0               NaN  \n",
       "1                                           0              1.10  \n",
       "2                                           0              0.69  \n",
       "3                                           0               NaN  \n",
       "4                                           0              3.77  \n",
       "\n",
       "[5 rows x 75 columns]"
      ]
     },
     "execution_count": 172,
     "metadata": {},
     "output_type": "execute_result"
    }
   ],
   "source": [
    "dataFrame.head()"
   ]
  },
  {
   "cell_type": "markdown",
   "metadata": {},
   "source": [
    "When using the `head()` method, you can specify the number of rows you would like to see by calling `head()` with an integer parameter (e.g. `head(2)`)."
   ]
  },
  {
   "cell_type": "markdown",
   "metadata": {},
   "source": [
    "### b. Get column names: `df.columns`\n",
    "\n",
    "Let us retrieve just the list of column names."
   ]
  },
  {
   "cell_type": "code",
   "execution_count": 173,
   "metadata": {},
   "outputs": [
    {
     "data": {
      "text/plain": [
       "['id',\n",
       " 'listing_url',\n",
       " 'scrape_id',\n",
       " 'last_scraped',\n",
       " 'source',\n",
       " 'name',\n",
       " 'description',\n",
       " 'neighborhood_overview',\n",
       " 'picture_url',\n",
       " 'host_id',\n",
       " 'host_url',\n",
       " 'host_name',\n",
       " 'host_since',\n",
       " 'host_location',\n",
       " 'host_about',\n",
       " 'host_response_time',\n",
       " 'host_response_rate',\n",
       " 'host_acceptance_rate',\n",
       " 'host_is_superhost',\n",
       " 'host_thumbnail_url',\n",
       " 'host_picture_url',\n",
       " 'host_neighbourhood',\n",
       " 'host_listings_count',\n",
       " 'host_total_listings_count',\n",
       " 'host_verifications',\n",
       " 'host_has_profile_pic',\n",
       " 'host_identity_verified',\n",
       " 'neighbourhood',\n",
       " 'neighbourhood_cleansed',\n",
       " 'neighbourhood_group_cleansed',\n",
       " 'latitude',\n",
       " 'longitude',\n",
       " 'property_type',\n",
       " 'room_type',\n",
       " 'accommodates',\n",
       " 'bathrooms',\n",
       " 'bathrooms_text',\n",
       " 'bedrooms',\n",
       " 'beds',\n",
       " 'amenities',\n",
       " 'price',\n",
       " 'minimum_nights',\n",
       " 'maximum_nights',\n",
       " 'minimum_minimum_nights',\n",
       " 'maximum_minimum_nights',\n",
       " 'minimum_maximum_nights',\n",
       " 'maximum_maximum_nights',\n",
       " 'minimum_nights_avg_ntm',\n",
       " 'maximum_nights_avg_ntm',\n",
       " 'calendar_updated',\n",
       " 'has_availability',\n",
       " 'availability_30',\n",
       " 'availability_60',\n",
       " 'availability_90',\n",
       " 'availability_365',\n",
       " 'calendar_last_scraped',\n",
       " 'number_of_reviews',\n",
       " 'number_of_reviews_ltm',\n",
       " 'number_of_reviews_l30d',\n",
       " 'first_review',\n",
       " 'last_review',\n",
       " 'review_scores_rating',\n",
       " 'review_scores_accuracy',\n",
       " 'review_scores_cleanliness',\n",
       " 'review_scores_checkin',\n",
       " 'review_scores_communication',\n",
       " 'review_scores_location',\n",
       " 'review_scores_value',\n",
       " 'license',\n",
       " 'instant_bookable',\n",
       " 'calculated_host_listings_count',\n",
       " 'calculated_host_listings_count_entire_homes',\n",
       " 'calculated_host_listings_count_private_rooms',\n",
       " 'calculated_host_listings_count_shared_rooms',\n",
       " 'reviews_per_month']"
      ]
     },
     "execution_count": 173,
     "metadata": {},
     "output_type": "execute_result"
    }
   ],
   "source": [
    "list(dataFrame.columns)"
   ]
  },
  {
   "cell_type": "markdown",
   "metadata": {},
   "source": [
    "What do the column names mean? Some of them are less intuitively interpretable than others. <br>\n",
    "Careful data documentation is indispensable for business analytics. You can consult the documentation that accompanies this open source dataset for a detailed description of the key variable names, what they represent, and how they were generated."
   ]
  },
  {
   "cell_type": "markdown",
   "metadata": {},
   "source": [
    "### c. Summary statistics of the DataFrame: `df.describe()`"
   ]
  },
  {
   "cell_type": "markdown",
   "metadata": {},
   "source": [
    "Let's print some general statistics for each one of the `data` columns:"
   ]
  },
  {
   "cell_type": "code",
   "execution_count": 174,
   "metadata": {},
   "outputs": [
    {
     "data": {
      "text/html": [
       "<div>\n",
       "<style scoped>\n",
       "    .dataframe tbody tr th:only-of-type {\n",
       "        vertical-align: middle;\n",
       "    }\n",
       "\n",
       "    .dataframe tbody tr th {\n",
       "        vertical-align: top;\n",
       "    }\n",
       "\n",
       "    .dataframe thead th {\n",
       "        text-align: right;\n",
       "    }\n",
       "</style>\n",
       "<table border=\"1\" class=\"dataframe\">\n",
       "  <thead>\n",
       "    <tr style=\"text-align: right;\">\n",
       "      <th></th>\n",
       "      <th>id</th>\n",
       "      <th>listing_url</th>\n",
       "      <th>scrape_id</th>\n",
       "      <th>last_scraped</th>\n",
       "      <th>source</th>\n",
       "      <th>name</th>\n",
       "      <th>description</th>\n",
       "      <th>neighborhood_overview</th>\n",
       "      <th>picture_url</th>\n",
       "      <th>host_id</th>\n",
       "      <th>...</th>\n",
       "      <th>review_scores_communication</th>\n",
       "      <th>review_scores_location</th>\n",
       "      <th>review_scores_value</th>\n",
       "      <th>license</th>\n",
       "      <th>instant_bookable</th>\n",
       "      <th>calculated_host_listings_count</th>\n",
       "      <th>calculated_host_listings_count_entire_homes</th>\n",
       "      <th>calculated_host_listings_count_private_rooms</th>\n",
       "      <th>calculated_host_listings_count_shared_rooms</th>\n",
       "      <th>reviews_per_month</th>\n",
       "    </tr>\n",
       "  </thead>\n",
       "  <tbody>\n",
       "    <tr>\n",
       "      <th>count</th>\n",
       "      <td>3.819900e+04</td>\n",
       "      <td>38199</td>\n",
       "      <td>3.819900e+04</td>\n",
       "      <td>38199</td>\n",
       "      <td>38199</td>\n",
       "      <td>38197</td>\n",
       "      <td>37168</td>\n",
       "      <td>21588</td>\n",
       "      <td>38198</td>\n",
       "      <td>3.819900e+04</td>\n",
       "      <td>...</td>\n",
       "      <td>26499.000000</td>\n",
       "      <td>26487.000000</td>\n",
       "      <td>26488.000000</td>\n",
       "      <td>5361</td>\n",
       "      <td>38199</td>\n",
       "      <td>38199.000000</td>\n",
       "      <td>38199.000000</td>\n",
       "      <td>38199.000000</td>\n",
       "      <td>38199.000000</td>\n",
       "      <td>26526.000000</td>\n",
       "    </tr>\n",
       "    <tr>\n",
       "      <th>unique</th>\n",
       "      <td>NaN</td>\n",
       "      <td>38199</td>\n",
       "      <td>NaN</td>\n",
       "      <td>2</td>\n",
       "      <td>2</td>\n",
       "      <td>36460</td>\n",
       "      <td>31264</td>\n",
       "      <td>16042</td>\n",
       "      <td>37341</td>\n",
       "      <td>NaN</td>\n",
       "      <td>...</td>\n",
       "      <td>NaN</td>\n",
       "      <td>NaN</td>\n",
       "      <td>NaN</td>\n",
       "      <td>1645</td>\n",
       "      <td>2</td>\n",
       "      <td>NaN</td>\n",
       "      <td>NaN</td>\n",
       "      <td>NaN</td>\n",
       "      <td>NaN</td>\n",
       "      <td>NaN</td>\n",
       "    </tr>\n",
       "    <tr>\n",
       "      <th>top</th>\n",
       "      <td>NaN</td>\n",
       "      <td>https://www.airbnb.com/rooms/842859220033081539</td>\n",
       "      <td>NaN</td>\n",
       "      <td>2024-05-04</td>\n",
       "      <td>city scrape</td>\n",
       "      <td>Water View King Bed Hotel Room</td>\n",
       "      <td>Keep it simple at this peaceful and centrally-...</td>\n",
       "      <td>This furnished apartment is located in the Fin...</td>\n",
       "      <td>https://a0.muscache.com/pictures/6998e77e-4564...</td>\n",
       "      <td>NaN</td>\n",
       "      <td>...</td>\n",
       "      <td>NaN</td>\n",
       "      <td>NaN</td>\n",
       "      <td>NaN</td>\n",
       "      <td>Exempt</td>\n",
       "      <td>f</td>\n",
       "      <td>NaN</td>\n",
       "      <td>NaN</td>\n",
       "      <td>NaN</td>\n",
       "      <td>NaN</td>\n",
       "      <td>NaN</td>\n",
       "    </tr>\n",
       "    <tr>\n",
       "      <th>freq</th>\n",
       "      <td>NaN</td>\n",
       "      <td>1</td>\n",
       "      <td>NaN</td>\n",
       "      <td>30909</td>\n",
       "      <td>23640</td>\n",
       "      <td>30</td>\n",
       "      <td>106</td>\n",
       "      <td>97</td>\n",
       "      <td>35</td>\n",
       "      <td>NaN</td>\n",
       "      <td>...</td>\n",
       "      <td>NaN</td>\n",
       "      <td>NaN</td>\n",
       "      <td>NaN</td>\n",
       "      <td>3043</td>\n",
       "      <td>30465</td>\n",
       "      <td>NaN</td>\n",
       "      <td>NaN</td>\n",
       "      <td>NaN</td>\n",
       "      <td>NaN</td>\n",
       "      <td>NaN</td>\n",
       "    </tr>\n",
       "    <tr>\n",
       "      <th>mean</th>\n",
       "      <td>3.497211e+17</td>\n",
       "      <td>NaN</td>\n",
       "      <td>2.024050e+13</td>\n",
       "      <td>NaN</td>\n",
       "      <td>NaN</td>\n",
       "      <td>NaN</td>\n",
       "      <td>NaN</td>\n",
       "      <td>NaN</td>\n",
       "      <td>NaN</td>\n",
       "      <td>1.627737e+08</td>\n",
       "      <td>...</td>\n",
       "      <td>4.832203</td>\n",
       "      <td>4.745983</td>\n",
       "      <td>4.655192</td>\n",
       "      <td>NaN</td>\n",
       "      <td>NaN</td>\n",
       "      <td>48.116050</td>\n",
       "      <td>24.795126</td>\n",
       "      <td>22.877667</td>\n",
       "      <td>0.069400</td>\n",
       "      <td>0.914669</td>\n",
       "    </tr>\n",
       "    <tr>\n",
       "      <th>std</th>\n",
       "      <td>4.398286e+17</td>\n",
       "      <td>NaN</td>\n",
       "      <td>0.000000e+00</td>\n",
       "      <td>NaN</td>\n",
       "      <td>NaN</td>\n",
       "      <td>NaN</td>\n",
       "      <td>NaN</td>\n",
       "      <td>NaN</td>\n",
       "      <td>NaN</td>\n",
       "      <td>1.774788e+08</td>\n",
       "      <td>...</td>\n",
       "      <td>0.387562</td>\n",
       "      <td>0.376070</td>\n",
       "      <td>0.458700</td>\n",
       "      <td>NaN</td>\n",
       "      <td>NaN</td>\n",
       "      <td>153.920473</td>\n",
       "      <td>123.813710</td>\n",
       "      <td>96.030008</td>\n",
       "      <td>0.577404</td>\n",
       "      <td>1.546578</td>\n",
       "    </tr>\n",
       "    <tr>\n",
       "      <th>min</th>\n",
       "      <td>2.595000e+03</td>\n",
       "      <td>NaN</td>\n",
       "      <td>2.024050e+13</td>\n",
       "      <td>NaN</td>\n",
       "      <td>NaN</td>\n",
       "      <td>NaN</td>\n",
       "      <td>NaN</td>\n",
       "      <td>NaN</td>\n",
       "      <td>NaN</td>\n",
       "      <td>1.678000e+03</td>\n",
       "      <td>...</td>\n",
       "      <td>0.000000</td>\n",
       "      <td>0.000000</td>\n",
       "      <td>0.000000</td>\n",
       "      <td>NaN</td>\n",
       "      <td>NaN</td>\n",
       "      <td>1.000000</td>\n",
       "      <td>0.000000</td>\n",
       "      <td>0.000000</td>\n",
       "      <td>0.000000</td>\n",
       "      <td>0.010000</td>\n",
       "    </tr>\n",
       "    <tr>\n",
       "      <th>25%</th>\n",
       "      <td>2.045899e+07</td>\n",
       "      <td>NaN</td>\n",
       "      <td>2.024050e+13</td>\n",
       "      <td>NaN</td>\n",
       "      <td>NaN</td>\n",
       "      <td>NaN</td>\n",
       "      <td>NaN</td>\n",
       "      <td>NaN</td>\n",
       "      <td>NaN</td>\n",
       "      <td>1.650117e+07</td>\n",
       "      <td>...</td>\n",
       "      <td>4.820000</td>\n",
       "      <td>4.650000</td>\n",
       "      <td>4.550000</td>\n",
       "      <td>NaN</td>\n",
       "      <td>NaN</td>\n",
       "      <td>1.000000</td>\n",
       "      <td>0.000000</td>\n",
       "      <td>0.000000</td>\n",
       "      <td>0.000000</td>\n",
       "      <td>0.100000</td>\n",
       "    </tr>\n",
       "    <tr>\n",
       "      <th>50%</th>\n",
       "      <td>4.789002e+07</td>\n",
       "      <td>NaN</td>\n",
       "      <td>2.024050e+13</td>\n",
       "      <td>NaN</td>\n",
       "      <td>NaN</td>\n",
       "      <td>NaN</td>\n",
       "      <td>NaN</td>\n",
       "      <td>NaN</td>\n",
       "      <td>NaN</td>\n",
       "      <td>7.846979e+07</td>\n",
       "      <td>...</td>\n",
       "      <td>4.960000</td>\n",
       "      <td>4.850000</td>\n",
       "      <td>4.770000</td>\n",
       "      <td>NaN</td>\n",
       "      <td>NaN</td>\n",
       "      <td>1.000000</td>\n",
       "      <td>1.000000</td>\n",
       "      <td>1.000000</td>\n",
       "      <td>0.000000</td>\n",
       "      <td>0.340000</td>\n",
       "    </tr>\n",
       "    <tr>\n",
       "      <th>75%</th>\n",
       "      <td>8.087100e+17</td>\n",
       "      <td>NaN</td>\n",
       "      <td>2.024050e+13</td>\n",
       "      <td>NaN</td>\n",
       "      <td>NaN</td>\n",
       "      <td>NaN</td>\n",
       "      <td>NaN</td>\n",
       "      <td>NaN</td>\n",
       "      <td>NaN</td>\n",
       "      <td>2.938092e+08</td>\n",
       "      <td>...</td>\n",
       "      <td>5.000000</td>\n",
       "      <td>5.000000</td>\n",
       "      <td>4.940000</td>\n",
       "      <td>NaN</td>\n",
       "      <td>NaN</td>\n",
       "      <td>7.000000</td>\n",
       "      <td>2.000000</td>\n",
       "      <td>2.000000</td>\n",
       "      <td>0.000000</td>\n",
       "      <td>1.210000</td>\n",
       "    </tr>\n",
       "    <tr>\n",
       "      <th>max</th>\n",
       "      <td>1.148462e+18</td>\n",
       "      <td>NaN</td>\n",
       "      <td>2.024050e+13</td>\n",
       "      <td>NaN</td>\n",
       "      <td>NaN</td>\n",
       "      <td>NaN</td>\n",
       "      <td>NaN</td>\n",
       "      <td>NaN</td>\n",
       "      <td>NaN</td>\n",
       "      <td>5.752345e+08</td>\n",
       "      <td>...</td>\n",
       "      <td>5.000000</td>\n",
       "      <td>5.000000</td>\n",
       "      <td>5.000000</td>\n",
       "      <td>NaN</td>\n",
       "      <td>NaN</td>\n",
       "      <td>837.000000</td>\n",
       "      <td>837.000000</td>\n",
       "      <td>659.000000</td>\n",
       "      <td>13.000000</td>\n",
       "      <td>58.480000</td>\n",
       "    </tr>\n",
       "  </tbody>\n",
       "</table>\n",
       "<p>11 rows × 75 columns</p>\n",
       "</div>"
      ],
      "text/plain": [
       "                  id                                      listing_url  \\\n",
       "count   3.819900e+04                                            38199   \n",
       "unique           NaN                                            38199   \n",
       "top              NaN  https://www.airbnb.com/rooms/842859220033081539   \n",
       "freq             NaN                                                1   \n",
       "mean    3.497211e+17                                              NaN   \n",
       "std     4.398286e+17                                              NaN   \n",
       "min     2.595000e+03                                              NaN   \n",
       "25%     2.045899e+07                                              NaN   \n",
       "50%     4.789002e+07                                              NaN   \n",
       "75%     8.087100e+17                                              NaN   \n",
       "max     1.148462e+18                                              NaN   \n",
       "\n",
       "           scrape_id last_scraped       source  \\\n",
       "count   3.819900e+04        38199        38199   \n",
       "unique           NaN            2            2   \n",
       "top              NaN   2024-05-04  city scrape   \n",
       "freq             NaN        30909        23640   \n",
       "mean    2.024050e+13          NaN          NaN   \n",
       "std     0.000000e+00          NaN          NaN   \n",
       "min     2.024050e+13          NaN          NaN   \n",
       "25%     2.024050e+13          NaN          NaN   \n",
       "50%     2.024050e+13          NaN          NaN   \n",
       "75%     2.024050e+13          NaN          NaN   \n",
       "max     2.024050e+13          NaN          NaN   \n",
       "\n",
       "                                  name  \\\n",
       "count                            38197   \n",
       "unique                           36460   \n",
       "top     Water View King Bed Hotel Room   \n",
       "freq                                30   \n",
       "mean                               NaN   \n",
       "std                                NaN   \n",
       "min                                NaN   \n",
       "25%                                NaN   \n",
       "50%                                NaN   \n",
       "75%                                NaN   \n",
       "max                                NaN   \n",
       "\n",
       "                                              description  \\\n",
       "count                                               37168   \n",
       "unique                                              31264   \n",
       "top     Keep it simple at this peaceful and centrally-...   \n",
       "freq                                                  106   \n",
       "mean                                                  NaN   \n",
       "std                                                   NaN   \n",
       "min                                                   NaN   \n",
       "25%                                                   NaN   \n",
       "50%                                                   NaN   \n",
       "75%                                                   NaN   \n",
       "max                                                   NaN   \n",
       "\n",
       "                                    neighborhood_overview  \\\n",
       "count                                               21588   \n",
       "unique                                              16042   \n",
       "top     This furnished apartment is located in the Fin...   \n",
       "freq                                                   97   \n",
       "mean                                                  NaN   \n",
       "std                                                   NaN   \n",
       "min                                                   NaN   \n",
       "25%                                                   NaN   \n",
       "50%                                                   NaN   \n",
       "75%                                                   NaN   \n",
       "max                                                   NaN   \n",
       "\n",
       "                                              picture_url       host_id  ...  \\\n",
       "count                                               38198  3.819900e+04  ...   \n",
       "unique                                              37341           NaN  ...   \n",
       "top     https://a0.muscache.com/pictures/6998e77e-4564...           NaN  ...   \n",
       "freq                                                   35           NaN  ...   \n",
       "mean                                                  NaN  1.627737e+08  ...   \n",
       "std                                                   NaN  1.774788e+08  ...   \n",
       "min                                                   NaN  1.678000e+03  ...   \n",
       "25%                                                   NaN  1.650117e+07  ...   \n",
       "50%                                                   NaN  7.846979e+07  ...   \n",
       "75%                                                   NaN  2.938092e+08  ...   \n",
       "max                                                   NaN  5.752345e+08  ...   \n",
       "\n",
       "       review_scores_communication review_scores_location review_scores_value  \\\n",
       "count                 26499.000000           26487.000000        26488.000000   \n",
       "unique                         NaN                    NaN                 NaN   \n",
       "top                            NaN                    NaN                 NaN   \n",
       "freq                           NaN                    NaN                 NaN   \n",
       "mean                      4.832203               4.745983            4.655192   \n",
       "std                       0.387562               0.376070            0.458700   \n",
       "min                       0.000000               0.000000            0.000000   \n",
       "25%                       4.820000               4.650000            4.550000   \n",
       "50%                       4.960000               4.850000            4.770000   \n",
       "75%                       5.000000               5.000000            4.940000   \n",
       "max                       5.000000               5.000000            5.000000   \n",
       "\n",
       "       license instant_bookable calculated_host_listings_count  \\\n",
       "count     5361            38199                   38199.000000   \n",
       "unique    1645                2                            NaN   \n",
       "top     Exempt                f                            NaN   \n",
       "freq      3043            30465                            NaN   \n",
       "mean       NaN              NaN                      48.116050   \n",
       "std        NaN              NaN                     153.920473   \n",
       "min        NaN              NaN                       1.000000   \n",
       "25%        NaN              NaN                       1.000000   \n",
       "50%        NaN              NaN                       1.000000   \n",
       "75%        NaN              NaN                       7.000000   \n",
       "max        NaN              NaN                     837.000000   \n",
       "\n",
       "       calculated_host_listings_count_entire_homes  \\\n",
       "count                                 38199.000000   \n",
       "unique                                         NaN   \n",
       "top                                            NaN   \n",
       "freq                                           NaN   \n",
       "mean                                     24.795126   \n",
       "std                                     123.813710   \n",
       "min                                       0.000000   \n",
       "25%                                       0.000000   \n",
       "50%                                       1.000000   \n",
       "75%                                       2.000000   \n",
       "max                                     837.000000   \n",
       "\n",
       "       calculated_host_listings_count_private_rooms  \\\n",
       "count                                  38199.000000   \n",
       "unique                                          NaN   \n",
       "top                                             NaN   \n",
       "freq                                            NaN   \n",
       "mean                                      22.877667   \n",
       "std                                       96.030008   \n",
       "min                                        0.000000   \n",
       "25%                                        0.000000   \n",
       "50%                                        1.000000   \n",
       "75%                                        2.000000   \n",
       "max                                      659.000000   \n",
       "\n",
       "       calculated_host_listings_count_shared_rooms reviews_per_month  \n",
       "count                                 38199.000000      26526.000000  \n",
       "unique                                         NaN               NaN  \n",
       "top                                            NaN               NaN  \n",
       "freq                                           NaN               NaN  \n",
       "mean                                      0.069400          0.914669  \n",
       "std                                       0.577404          1.546578  \n",
       "min                                       0.000000          0.010000  \n",
       "25%                                       0.000000          0.100000  \n",
       "50%                                       0.000000          0.340000  \n",
       "75%                                       0.000000          1.210000  \n",
       "max                                      13.000000         58.480000  \n",
       "\n",
       "[11 rows x 75 columns]"
      ]
     },
     "execution_count": 174,
     "metadata": {},
     "output_type": "execute_result"
    }
   ],
   "source": [
    "dataFrame.describe(include='all')"
   ]
  },
  {
   "cell_type": "markdown",
   "metadata": {},
   "source": [
    "### d. Filtering the data: `df[ < condition > ]`"
   ]
  },
  {
   "cell_type": "markdown",
   "metadata": {},
   "source": [
    "Consider the following business question: What is the average availability (out of 365 days in a year) for the listings in Brooklyn? <br>\n",
    "\n",
    "The answer can be obtained by the use of **filters** on the dataset. We need to filter the entries that are in Brooklyn. To do this, we need to know the exact way that Manhattan listings are spelled and entered in the data. Let's print all of the unique values of the `neighbourhood` column:"
   ]
  },
  {
   "cell_type": "code",
   "execution_count": 175,
   "metadata": {},
   "outputs": [
    {
     "data": {
      "text/plain": [
       "array([nan, 'Neighborhood highlights'], dtype=object)"
      ]
     },
     "execution_count": 175,
     "metadata": {},
     "output_type": "execute_result"
    }
   ],
   "source": [
    "dataFrame['neighbourhood'].unique()"
   ]
  },
  {
   "cell_type": "markdown",
   "metadata": {},
   "source": [
    "You may have noticed that there is a lot of heterogeneity in the way `neighbourhood` values are specified. The values are not standardized. There are overlaps, redundancies, and inconsistencies (e.g., some entries specify ```'Greenpoint, Brooklyn, New York, United States'```, some other ones list `'BROOKLYN, New York, United States',`, yet other ones say `'Williamsburg, Brooklyn, New York, United States'`, etc. In real life, you would have to clean this data and replace these values with standard, identically formated, consistent values. <br>\n",
    "\n",
    "For this dataset, we are lucky to already have a 'cleansed' version of the neighborhood information based on the latitude and the longitude of every listing location. \n",
    "\n",
    "We will list the unique values of the columns titled `neighbourhood_cleansed` and `neighbourhood_group_cleansed`:"
   ]
  },
  {
   "cell_type": "code",
   "execution_count": 176,
   "metadata": {},
   "outputs": [
    {
     "data": {
      "text/plain": [
       "array(['Upper East Side', 'Flushing', \"Hell's Kitchen\", 'Jamaica',\n",
       "       'East Elmhurst', 'Woodside', 'Crown Heights', 'Bayside',\n",
       "       'Long Island City', 'Concord', 'Ditmars Steinway',\n",
       "       'Williamsbridge', 'Dyker Heights', 'Theater District', 'Kips Bay',\n",
       "       \"Prince's Bay\", 'Sunset Park', 'Queens Village',\n",
       "       'Springfield Gardens', 'Bellerose', 'Mariners Harbor',\n",
       "       'Jamaica Estates', 'Allerton', 'West Farms', 'Fordham', 'Rosedale',\n",
       "       'Washington Heights', 'Fort Greene', 'Harlem', 'SoHo',\n",
       "       'Bedford-Stuyvesant', 'Lower East Side', 'Clason Point',\n",
       "       'Greenpoint', 'Williamsburg', 'Sunnyside', 'Kensington',\n",
       "       'Morningside Heights', 'Brighton Beach', 'Bensonhurst', 'Canarsie',\n",
       "       'East Flatbush', 'East New York', 'Greenwich Village', 'Arverne',\n",
       "       'Astoria', 'Woodhaven', 'Park Slope', 'Midtown', 'East Village',\n",
       "       'Clinton Hill', 'Chelsea', 'Bushwick', 'Inwood', 'Murray Hill',\n",
       "       'Financial District', 'Mott Haven', 'Upper West Side',\n",
       "       'Kingsbridge', 'Gramercy', 'Gravesend', 'Co-op City', 'Elmhurst',\n",
       "       'East Harlem', 'Brownsville', 'Kew Gardens Hills', 'Borough Park',\n",
       "       'Nolita', 'Unionport', 'Hollis', 'St. George', 'Woodlawn',\n",
       "       'Morrisania', 'Boerum Hill', 'Jackson Heights', 'Carroll Gardens',\n",
       "       'Forest Hills', 'Van Nest', 'Ridgewood', 'Bergen Beach', 'Gowanus',\n",
       "       'Concourse Village', 'Longwood', 'Vinegar Hill',\n",
       "       'Battery Park City', 'Fort Hamilton', 'Stuyvesant Town',\n",
       "       'Red Hook', 'Ozone Park', 'Flatbush', 'Norwood', 'Cypress Hills',\n",
       "       'Kew Gardens', 'Mill Basin', 'Rego Park', 'West Village',\n",
       "       'Concourse', 'Chinatown', 'Flatiron District', 'Tremont',\n",
       "       'Morris Park', 'Flatlands', 'Grymes Hill', 'Civic Center',\n",
       "       'Prospect Heights', 'Sheepshead Bay', 'Todt Hill',\n",
       "       'Brooklyn Heights', 'Edenwald', 'Throgs Neck', 'Bath Beach',\n",
       "       'Bay Ridge', 'St. Albans', 'Willowbrook', 'Richmond Hill',\n",
       "       'Fresh Meadows', 'NoHo', 'Briarwood', 'Prospect-Lefferts Gardens',\n",
       "       'Castle Hill', 'Columbia St', 'South Ozone Park', 'Cobble Hill',\n",
       "       'Little Italy', 'Claremont Village', \"Bull's Head\", 'Belmont',\n",
       "       'Maspeth', 'Tribeca', 'New Dorp Beach', 'Arrochar',\n",
       "       'College Point', 'Pelham Gardens', 'Glendale', 'South Slope',\n",
       "       'Windsor Terrace', 'Midwood', 'Downtown Brooklyn', 'Parkchester',\n",
       "       'Howland Hook', 'Baychester', 'Tottenville', 'Cambria Heights',\n",
       "       'Corona', 'Two Bridges', 'Little Neck', 'Tompkinsville',\n",
       "       'Holliswood', 'Rockaway Beach', 'Laurelton', 'City Island',\n",
       "       'Pelham Bay', 'Castleton Corners', 'Schuylerville', 'Wakefield',\n",
       "       'Rosebank', 'University Heights', 'Bayswater', 'Roosevelt Island',\n",
       "       'Soundview', 'Highbridge', 'Stapleton', 'Middle Village',\n",
       "       'Riverdale', 'Hunts Point', 'Olinville', 'Clifton',\n",
       "       'New Springville', 'Mount Hope', 'Port Morris', 'Mount Eden',\n",
       "       'Howard Beach', 'DUMBO', 'North Riverdale', 'New Brighton',\n",
       "       'Belle Harbor', 'Whitestone', 'Country Club', 'Great Kills',\n",
       "       'South Beach', 'Sea Gate', 'Far Rockaway', 'West Brighton',\n",
       "       'Morris Heights', 'Bronxdale', 'Marble Hill', 'Shore Acres',\n",
       "       'Navy Yard', 'Silver Lake', 'Coney Island', 'New Dorp',\n",
       "       'Manhattan Beach', 'East Morrisania', 'Chelsea, Staten Island',\n",
       "       'Randall Manor', 'Jamaica Hills', 'Bay Terrace', 'Grant City',\n",
       "       'Arden Heights', 'Spuyten Duyvil', 'Westchester Square', 'Woodrow',\n",
       "       'Eastchester', 'Emerson Hill', 'Melrose', 'Edgemere', 'Huguenot',\n",
       "       'Lighthouse Hill', 'Graniteville', 'Dongan Hills', 'Douglaston',\n",
       "       'Eltingville', 'Fieldston', 'Port Richmond', 'Oakwood',\n",
       "       'Gerritsen Beach', 'Midland Beach', 'Richmondtown', 'Rossville',\n",
       "       'Neponsit', 'Westerleigh', 'Breezy Point', 'Fort Wadsworth',\n",
       "       'Hollis Hills', 'Bay Terrace, Staten Island'], dtype=object)"
      ]
     },
     "execution_count": 176,
     "metadata": {},
     "output_type": "execute_result"
    }
   ],
   "source": [
    "dataFrame['neighbourhood_cleansed'].unique()"
   ]
  },
  {
   "cell_type": "code",
   "execution_count": 177,
   "metadata": {},
   "outputs": [
    {
     "data": {
      "text/plain": [
       "array(['Manhattan', 'Queens', 'Brooklyn', 'Staten Island', 'Bronx'],\n",
       "      dtype=object)"
      ]
     },
     "execution_count": 177,
     "metadata": {},
     "output_type": "execute_result"
    }
   ],
   "source": [
    "dataFrame['neighbourhood_group_cleansed'].unique()"
   ]
  },
  {
   "cell_type": "markdown",
   "metadata": {},
   "source": [
    "Let's filter out all data entries that pertain to Brooklyn listings:"
   ]
  },
  {
   "cell_type": "code",
   "execution_count": 178,
   "metadata": {},
   "outputs": [
    {
     "data": {
      "text/plain": [
       "(14115, 75)"
      ]
     },
     "execution_count": 178,
     "metadata": {},
     "output_type": "execute_result"
    }
   ],
   "source": [
    "bk = dataFrame[dataFrame['neighbourhood_group_cleansed'] == 'Brooklyn']\n",
    "bk.shape"
   ]
  },
  {
   "cell_type": "markdown",
   "metadata": {},
   "source": [
    "<b>Tip</b>: to better understand what happened above, in the code cell below, you are encouraged to copy *just the condition* of the filter that we used on the `data` object above: `dataFrame['neighbourhood_group_cleansed'] == 'Brooklyn'`. \n",
    "\n",
    "Run the cell and see what that condition alone evaluates to. You should see a Pandas series containing True/False values. When we use that series as a Boolean filter by writing `dataFrame[ < our Boolean series > ]`, i.e `dataFrame['neighbourhood_group_cleansed'] == 'Brooklyn']`, we are telling Pandas to keep the values in the DataFrame `dataFrame` only with those indices for which the condition evaluated to `True`. "
   ]
  },
  {
   "cell_type": "code",
   "execution_count": 179,
   "metadata": {},
   "outputs": [
    {
     "data": {
      "text/plain": [
       "0        False\n",
       "1        False\n",
       "2        False\n",
       "3        False\n",
       "4        False\n",
       "         ...  \n",
       "38194     True\n",
       "38195    False\n",
       "38196    False\n",
       "38197    False\n",
       "38198    False\n",
       "Name: neighbourhood_group_cleansed, Length: 38199, dtype: bool"
      ]
     },
     "execution_count": 179,
     "metadata": {},
     "output_type": "execute_result"
    }
   ],
   "source": [
    "dataFrame['neighbourhood_group_cleansed'] == 'Brooklyn'"
   ]
  },
  {
   "cell_type": "markdown",
   "metadata": {},
   "source": [
    "\n",
    "### e. Combining values in a column: `np.mean()`"
   ]
  },
  {
   "cell_type": "markdown",
   "metadata": {},
   "source": [
    "Now that we isolated only the relevant entries, it remains to average the value of a particular column that we care about:"
   ]
  },
  {
   "cell_type": "code",
   "execution_count": 180,
   "metadata": {},
   "outputs": [
    {
     "data": {
      "text/plain": [
       "np.float64(140.24456252213957)"
      ]
     },
     "execution_count": 180,
     "metadata": {},
     "output_type": "execute_result"
    }
   ],
   "source": [
    "np.mean(bk['availability_365'])"
   ]
  },
  {
   "cell_type": "markdown",
   "metadata": {},
   "source": [
    "### f. Group data by (categorical) column values: `df.groupby()`"
   ]
  },
  {
   "cell_type": "markdown",
   "metadata": {},
   "source": [
    "The next question of interest could be:<br>\n",
    "\n",
    "What are the top 5 most reviewed neighborhoods in New York? (By sheer number of reviews, regardless of their quality). <br>\n",
    "\n",
    "We will use the Pandas ```df.groupby()``` method to determine this:"
   ]
  },
  {
   "cell_type": "code",
   "execution_count": 181,
   "metadata": {},
   "outputs": [
    {
     "data": {
      "text/plain": [
       "neighbourhood_cleansed\n",
       "Allerton          2310\n",
       "Arden Heights       59\n",
       "Arrochar           450\n",
       "Arverne           2928\n",
       "Astoria          19659\n",
       "Name: number_of_reviews, dtype: int64"
      ]
     },
     "execution_count": 181,
     "metadata": {},
     "output_type": "execute_result"
    }
   ],
   "source": [
    "nbhd_reviews = dataFrame.groupby('neighbourhood_cleansed')['number_of_reviews'].sum()\n",
    "nbhd_reviews.head()"
   ]
  },
  {
   "cell_type": "markdown",
   "metadata": {},
   "source": [
    "Perform a (descending order) sorting on this series:"
   ]
  },
  {
   "cell_type": "code",
   "execution_count": 182,
   "metadata": {},
   "outputs": [
    {
     "data": {
      "text/plain": [
       "neighbourhood_cleansed\n",
       "Bedford-Stuyvesant    95200\n",
       "Harlem                57715\n",
       "Williamsburg          50593\n",
       "Crown Heights         33902\n",
       "Bushwick              32400\n",
       "Name: number_of_reviews, dtype: int64"
      ]
     },
     "execution_count": 182,
     "metadata": {},
     "output_type": "execute_result"
    }
   ],
   "source": [
    "nbhd_reviews = nbhd_reviews.sort_values(ascending = False)\n",
    "nbhd_reviews.head(5)"
   ]
  },
  {
   "cell_type": "markdown",
   "metadata": {},
   "source": [
    "What are the least reviewed neighborhoods?"
   ]
  },
  {
   "cell_type": "code",
   "execution_count": 183,
   "metadata": {},
   "outputs": [
    {
     "data": {
      "text/plain": [
       "neighbourhood_cleansed\n",
       "Dongan Hills      0\n",
       "Fort Wadsworth    0\n",
       "Hollis Hills      0\n",
       "New Dorp          0\n",
       "Rossville         0\n",
       "Name: number_of_reviews, dtype: int64"
      ]
     },
     "execution_count": 183,
     "metadata": {},
     "output_type": "execute_result"
    }
   ],
   "source": [
    "nbhd_reviews.tail(5)"
   ]
  },
  {
   "cell_type": "markdown",
   "metadata": {},
   "source": [
    "This result makes it apparent that our dataset is somewhat messy!"
   ]
  },
  {
   "cell_type": "markdown",
   "metadata": {},
   "source": [
    "Notice we could have chained the transformations above into a single command, as in:"
   ]
  },
  {
   "cell_type": "code",
   "execution_count": 184,
   "metadata": {},
   "outputs": [
    {
     "data": {
      "text/plain": [
       "neighbourhood_cleansed\n",
       "Bedford-Stuyvesant    95200\n",
       "Harlem                57715\n",
       "Williamsburg          50593\n",
       "Crown Heights         33902\n",
       "Bushwick              32400\n",
       "Name: number_of_reviews, dtype: int64"
      ]
     },
     "execution_count": 184,
     "metadata": {},
     "output_type": "execute_result"
    }
   ],
   "source": [
    "dataFrame.groupby('neighbourhood_cleansed')['number_of_reviews'].sum().sort_values(ascending = False).head(5)"
   ]
  },
  {
   "cell_type": "markdown",
   "metadata": {},
   "source": [
    "This way we don't store objects that we won't need."
   ]
  },
  {
   "cell_type": "markdown",
   "metadata": {},
   "source": [
    "### Bonus: Histogram plotting with Matplotlib: `plt.hist()`"
   ]
  },
  {
   "cell_type": "markdown",
   "metadata": {},
   "source": [
    "As a final touch, run the cell below to visualize the density of average values of review numbers across all neighborhoods. <b>Note:</b> The cell may take a few seconds to run."
   ]
  },
  {
   "cell_type": "code",
   "execution_count": 185,
   "metadata": {},
   "outputs": [
    {
     "data": {
      "text/plain": [
       "<Axes: >"
      ]
     },
     "execution_count": 185,
     "metadata": {},
     "output_type": "execute_result"
    },
    {
     "data": {
      "image/png": "[encoded data removed]",
      "text/plain": [
       "<Figure size 640x480 with 1 Axes>"
      ]
     },
     "metadata": {},
     "output_type": "display_data"
    }
   ],
   "source": [
    "%matplotlib inline\n",
    "nbhd_reviews.hist()"
   ]
  },
  {
   "cell_type": "markdown",
   "metadata": {},
   "source": [
    "This plot suggests that the vast majority of neighborhoods have only very few reviews, with just a handful of outliers (those ranked at the top in our previous computed cell) having the number of reviews upward of 40000. "
   ]
  },
  {
   "cell_type": "markdown",
   "metadata": {},
   "source": [
    "## Part 2. ML Life Cycle: Business Understanding and Problem Formulation"
   ]
  },
  {
   "cell_type": "markdown",
   "metadata": {},
   "source": [
    "In this part of the lab, you will practice the first step of the machine learning life cycle: business understanding and problem formulation.\n",
    "\n",
    "Recall that the first step of the machine learning life cycle involves understanding and formulating your ML business problem, and the second step involves data understanding and preparation. In this lab however, we will first provide you with data and have you formulate a machine learning business problem based on that data.\n",
    "\n",
    "We have provided you with four datasets that you will use to formulate a machine learning problem.\n",
    "\n",
    "1. <b>HousingPrices.csv</b>: dataset that contains information about a house's characteristics (number of bedrooms, etc.) and its purchase price.\n",
    "\n",
    "2. <b>Top100Restaurants2020.csv</b>: dataset that contains information about 100 top rated restaurants in 2020.\n",
    "\n",
    "3. <b>ZooData.csv</b>: dataset that contains information about a variety of animals and their characteristics.\n",
    "\n",
    "4. <b>FlightInformation.csv</b>: dataset that contains flight information.\n",
    "\n",
    "The code cells below use the specified paths and names of the files to load the data into four different DataFrames.\n",
    "\n",
    "<b>Task \\#1</b>: After you run a code cell below to load the data, use some of the techniques you have practiced to inspect the data. Do the following: \n",
    "\n",
    "1. Inspect the first 10 rows of each DataFrame.\n",
    "2. Inspect all of the column names in each DataFrame.\n",
    "3. Obtain the shape of each DataFrame.\n",
    "\n",
    "(Note: You can add more cells below to accomplish this task by going to the `Insert` Menu and clicking on `Insert Cell Below`. By default, the new code cell will be of type `Code`.)\n",
    "\n",
    "<b>Task \\#2</b>: Once you have an idea of what is contained in a dataset, you will formulate a machine learning problem for that dataset. This will be a predictive problem. For example, the Airbnb dataset you worked with above can be used to train a machine learning model that can predict the price of a new Airbnb. \n",
    "\n",
    "Come up with at least one machine learning problem per dataset. Specify what you would like to use the data to predict in the future. Since these will be supervised learning problems, specify whether it is a classification (binary or multiclass) or a regression problem. List the label and feature columns. \n",
    "\n",
    "Note: Make sure you successfully ran the cell above that loads the `OS` module prior to running the cells below."
   ]
  },
  {
   "cell_type": "markdown",
   "metadata": {},
   "source": [
    "<b>Housing Prices Dataset</b>:"
   ]
  },
  {
   "cell_type": "code",
   "execution_count": 186,
   "metadata": {},
   "outputs": [],
   "source": [
    "#filename1 = os.path.join(os.getcwd(), \"data\", \"HousingPrices.csv\") \n",
    "\n",
    "dataFrame1 = pd.read_csv('Housing.csv')"
   ]
  },
  {
   "cell_type": "markdown",
   "metadata": {},
   "source": [
    "Inspect the data:"
   ]
  },
  {
   "cell_type": "code",
   "execution_count": 187,
   "metadata": {
    "scrolled": true
   },
   "outputs": [
    {
     "data": {
      "text/html": [
       "<div>\n",
       "<style scoped>\n",
       "    .dataframe tbody tr th:only-of-type {\n",
       "        vertical-align: middle;\n",
       "    }\n",
       "\n",
       "    .dataframe tbody tr th {\n",
       "        vertical-align: top;\n",
       "    }\n",
       "\n",
       "    .dataframe thead th {\n",
       "        text-align: right;\n",
       "    }\n",
       "</style>\n",
       "<table border=\"1\" class=\"dataframe\">\n",
       "  <thead>\n",
       "    <tr style=\"text-align: right;\">\n",
       "      <th></th>\n",
       "      <th>price</th>\n",
       "      <th>area</th>\n",
       "      <th>bedrooms</th>\n",
       "      <th>bathrooms</th>\n",
       "      <th>stories</th>\n",
       "      <th>mainroad</th>\n",
       "      <th>guestroom</th>\n",
       "      <th>basement</th>\n",
       "      <th>hotwaterheating</th>\n",
       "      <th>airconditioning</th>\n",
       "      <th>parking</th>\n",
       "      <th>prefarea</th>\n",
       "      <th>furnishingstatus</th>\n",
       "    </tr>\n",
       "  </thead>\n",
       "  <tbody>\n",
       "    <tr>\n",
       "      <th>0</th>\n",
       "      <td>13300000</td>\n",
       "      <td>7420</td>\n",
       "      <td>4</td>\n",
       "      <td>2</td>\n",
       "      <td>3</td>\n",
       "      <td>yes</td>\n",
       "      <td>no</td>\n",
       "      <td>no</td>\n",
       "      <td>no</td>\n",
       "      <td>yes</td>\n",
       "      <td>2</td>\n",
       "      <td>yes</td>\n",
       "      <td>furnished</td>\n",
       "    </tr>\n",
       "    <tr>\n",
       "      <th>1</th>\n",
       "      <td>12250000</td>\n",
       "      <td>8960</td>\n",
       "      <td>4</td>\n",
       "      <td>4</td>\n",
       "      <td>4</td>\n",
       "      <td>yes</td>\n",
       "      <td>no</td>\n",
       "      <td>no</td>\n",
       "      <td>no</td>\n",
       "      <td>yes</td>\n",
       "      <td>3</td>\n",
       "      <td>no</td>\n",
       "      <td>furnished</td>\n",
       "    </tr>\n",
       "    <tr>\n",
       "      <th>2</th>\n",
       "      <td>12250000</td>\n",
       "      <td>9960</td>\n",
       "      <td>3</td>\n",
       "      <td>2</td>\n",
       "      <td>2</td>\n",
       "      <td>yes</td>\n",
       "      <td>no</td>\n",
       "      <td>yes</td>\n",
       "      <td>no</td>\n",
       "      <td>no</td>\n",
       "      <td>2</td>\n",
       "      <td>yes</td>\n",
       "      <td>semi-furnished</td>\n",
       "    </tr>\n",
       "    <tr>\n",
       "      <th>3</th>\n",
       "      <td>12215000</td>\n",
       "      <td>7500</td>\n",
       "      <td>4</td>\n",
       "      <td>2</td>\n",
       "      <td>2</td>\n",
       "      <td>yes</td>\n",
       "      <td>no</td>\n",
       "      <td>yes</td>\n",
       "      <td>no</td>\n",
       "      <td>yes</td>\n",
       "      <td>3</td>\n",
       "      <td>yes</td>\n",
       "      <td>furnished</td>\n",
       "    </tr>\n",
       "    <tr>\n",
       "      <th>4</th>\n",
       "      <td>11410000</td>\n",
       "      <td>7420</td>\n",
       "      <td>4</td>\n",
       "      <td>1</td>\n",
       "      <td>2</td>\n",
       "      <td>yes</td>\n",
       "      <td>yes</td>\n",
       "      <td>yes</td>\n",
       "      <td>no</td>\n",
       "      <td>yes</td>\n",
       "      <td>2</td>\n",
       "      <td>no</td>\n",
       "      <td>furnished</td>\n",
       "    </tr>\n",
       "    <tr>\n",
       "      <th>5</th>\n",
       "      <td>10850000</td>\n",
       "      <td>7500</td>\n",
       "      <td>3</td>\n",
       "      <td>3</td>\n",
       "      <td>1</td>\n",
       "      <td>yes</td>\n",
       "      <td>no</td>\n",
       "      <td>yes</td>\n",
       "      <td>no</td>\n",
       "      <td>yes</td>\n",
       "      <td>2</td>\n",
       "      <td>yes</td>\n",
       "      <td>semi-furnished</td>\n",
       "    </tr>\n",
       "    <tr>\n",
       "      <th>6</th>\n",
       "      <td>10150000</td>\n",
       "      <td>8580</td>\n",
       "      <td>4</td>\n",
       "      <td>3</td>\n",
       "      <td>4</td>\n",
       "      <td>yes</td>\n",
       "      <td>no</td>\n",
       "      <td>no</td>\n",
       "      <td>no</td>\n",
       "      <td>yes</td>\n",
       "      <td>2</td>\n",
       "      <td>yes</td>\n",
       "      <td>semi-furnished</td>\n",
       "    </tr>\n",
       "    <tr>\n",
       "      <th>7</th>\n",
       "      <td>10150000</td>\n",
       "      <td>16200</td>\n",
       "      <td>5</td>\n",
       "      <td>3</td>\n",
       "      <td>2</td>\n",
       "      <td>yes</td>\n",
       "      <td>no</td>\n",
       "      <td>no</td>\n",
       "      <td>no</td>\n",
       "      <td>no</td>\n",
       "      <td>0</td>\n",
       "      <td>no</td>\n",
       "      <td>unfurnished</td>\n",
       "    </tr>\n",
       "    <tr>\n",
       "      <th>8</th>\n",
       "      <td>9870000</td>\n",
       "      <td>8100</td>\n",
       "      <td>4</td>\n",
       "      <td>1</td>\n",
       "      <td>2</td>\n",
       "      <td>yes</td>\n",
       "      <td>yes</td>\n",
       "      <td>yes</td>\n",
       "      <td>no</td>\n",
       "      <td>yes</td>\n",
       "      <td>2</td>\n",
       "      <td>yes</td>\n",
       "      <td>furnished</td>\n",
       "    </tr>\n",
       "    <tr>\n",
       "      <th>9</th>\n",
       "      <td>9800000</td>\n",
       "      <td>5750</td>\n",
       "      <td>3</td>\n",
       "      <td>2</td>\n",
       "      <td>4</td>\n",
       "      <td>yes</td>\n",
       "      <td>yes</td>\n",
       "      <td>no</td>\n",
       "      <td>no</td>\n",
       "      <td>yes</td>\n",
       "      <td>1</td>\n",
       "      <td>yes</td>\n",
       "      <td>unfurnished</td>\n",
       "    </tr>\n",
       "  </tbody>\n",
       "</table>\n",
       "</div>"
      ],
      "text/plain": [
       "      price   area  bedrooms  bathrooms  stories mainroad guestroom basement  \\\n",
       "0  13300000   7420         4          2        3      yes        no       no   \n",
       "1  12250000   8960         4          4        4      yes        no       no   \n",
       "2  12250000   9960         3          2        2      yes        no      yes   \n",
       "3  12215000   7500         4          2        2      yes        no      yes   \n",
       "4  11410000   7420         4          1        2      yes       yes      yes   \n",
       "5  10850000   7500         3          3        1      yes        no      yes   \n",
       "6  10150000   8580         4          3        4      yes        no       no   \n",
       "7  10150000  16200         5          3        2      yes        no       no   \n",
       "8   9870000   8100         4          1        2      yes       yes      yes   \n",
       "9   9800000   5750         3          2        4      yes       yes       no   \n",
       "\n",
       "  hotwaterheating airconditioning  parking prefarea furnishingstatus  \n",
       "0              no             yes        2      yes        furnished  \n",
       "1              no             yes        3       no        furnished  \n",
       "2              no              no        2      yes   semi-furnished  \n",
       "3              no             yes        3      yes        furnished  \n",
       "4              no             yes        2       no        furnished  \n",
       "5              no             yes        2      yes   semi-furnished  \n",
       "6              no             yes        2      yes   semi-furnished  \n",
       "7              no              no        0       no      unfurnished  \n",
       "8              no             yes        2      yes        furnished  \n",
       "9              no             yes        1      yes      unfurnished  "
      ]
     },
     "execution_count": 187,
     "metadata": {},
     "output_type": "execute_result"
    }
   ],
   "source": [
    "dataFrame1.head(10)"
   ]
  },
  {
   "cell_type": "markdown",
   "metadata": {},
   "source": [
    "Formulate ML Business Problem:"
   ]
  },
  {
   "cell_type": "markdown",
   "metadata": {},
   "source": [
    "Property valuation for specific buyer preferences. Label column: Property_valuation (Luxury, Family, Starter Home).\n",
    "Feature columns: area, bedrooms, bathrooms, basement, stories, prefarea, furnishing."
   ]
  },
  {
   "cell_type": "markdown",
   "metadata": {},
   "source": [
    "<b>Restaurants Dataset</b>:"
   ]
  },
  {
   "cell_type": "code",
   "execution_count": 191,
   "metadata": {},
   "outputs": [],
   "source": [
    "#filename2 = os.path.join(os.getcwd(), \"data\", \"Top100Restaurants2020.csv\") \n",
    "\n",
    "dataFrame2 = pd.read_csv('Independence100.csv')"
   ]
  },
  {
   "cell_type": "markdown",
   "metadata": {},
   "source": [
    "Inspect the data:"
   ]
  },
  {
   "cell_type": "code",
   "execution_count": 192,
   "metadata": {},
   "outputs": [
    {
     "data": {
      "text/html": [
       "<div>\n",
       "<style scoped>\n",
       "    .dataframe tbody tr th:only-of-type {\n",
       "        vertical-align: middle;\n",
       "    }\n",
       "\n",
       "    .dataframe tbody tr th {\n",
       "        vertical-align: top;\n",
       "    }\n",
       "\n",
       "    .dataframe thead th {\n",
       "        text-align: right;\n",
       "    }\n",
       "</style>\n",
       "<table border=\"1\" class=\"dataframe\">\n",
       "  <thead>\n",
       "    <tr style=\"text-align: right;\">\n",
       "      <th></th>\n",
       "      <th>Rank</th>\n",
       "      <th>Restaurant</th>\n",
       "      <th>Sales</th>\n",
       "      <th>Average Check</th>\n",
       "      <th>City</th>\n",
       "      <th>State</th>\n",
       "      <th>Meals Served</th>\n",
       "    </tr>\n",
       "  </thead>\n",
       "  <tbody>\n",
       "    <tr>\n",
       "      <th>0</th>\n",
       "      <td>1</td>\n",
       "      <td>Carmine's (Times Square)</td>\n",
       "      <td>39080335.0</td>\n",
       "      <td>40</td>\n",
       "      <td>New York</td>\n",
       "      <td>N.Y.</td>\n",
       "      <td>469803.0</td>\n",
       "    </tr>\n",
       "    <tr>\n",
       "      <th>1</th>\n",
       "      <td>2</td>\n",
       "      <td>The Boathouse Orlando</td>\n",
       "      <td>35218364.0</td>\n",
       "      <td>43</td>\n",
       "      <td>Orlando</td>\n",
       "      <td>Fla.</td>\n",
       "      <td>820819.0</td>\n",
       "    </tr>\n",
       "    <tr>\n",
       "      <th>2</th>\n",
       "      <td>3</td>\n",
       "      <td>Old Ebbitt Grill</td>\n",
       "      <td>29104017.0</td>\n",
       "      <td>33</td>\n",
       "      <td>Washington</td>\n",
       "      <td>D.C.</td>\n",
       "      <td>892830.0</td>\n",
       "    </tr>\n",
       "    <tr>\n",
       "      <th>3</th>\n",
       "      <td>4</td>\n",
       "      <td>LAVO Italian Restaurant &amp; Nightclub</td>\n",
       "      <td>26916180.0</td>\n",
       "      <td>90</td>\n",
       "      <td>New York</td>\n",
       "      <td>N.Y.</td>\n",
       "      <td>198500.0</td>\n",
       "    </tr>\n",
       "    <tr>\n",
       "      <th>4</th>\n",
       "      <td>5</td>\n",
       "      <td>Bryant Park Grill &amp; Cafe</td>\n",
       "      <td>26900000.0</td>\n",
       "      <td>62</td>\n",
       "      <td>New York</td>\n",
       "      <td>N.Y.</td>\n",
       "      <td>403000.0</td>\n",
       "    </tr>\n",
       "    <tr>\n",
       "      <th>5</th>\n",
       "      <td>6</td>\n",
       "      <td>Gibsons Bar &amp; Steakhouse</td>\n",
       "      <td>25409952.0</td>\n",
       "      <td>80</td>\n",
       "      <td>Chicago</td>\n",
       "      <td>Ill.</td>\n",
       "      <td>348567.0</td>\n",
       "    </tr>\n",
       "    <tr>\n",
       "      <th>6</th>\n",
       "      <td>7</td>\n",
       "      <td>Top of the World at the STRAT</td>\n",
       "      <td>25233543.0</td>\n",
       "      <td>103</td>\n",
       "      <td>Las Vegas</td>\n",
       "      <td>Nev.</td>\n",
       "      <td>246054.0</td>\n",
       "    </tr>\n",
       "    <tr>\n",
       "      <th>7</th>\n",
       "      <td>8</td>\n",
       "      <td>Maple &amp; Ash</td>\n",
       "      <td>24837595.0</td>\n",
       "      <td>99</td>\n",
       "      <td>Chicago</td>\n",
       "      <td>Ill.</td>\n",
       "      <td>210832.0</td>\n",
       "    </tr>\n",
       "    <tr>\n",
       "      <th>8</th>\n",
       "      <td>9</td>\n",
       "      <td>Balthazar</td>\n",
       "      <td>24547800.0</td>\n",
       "      <td>87</td>\n",
       "      <td>New York</td>\n",
       "      <td>N.Y.</td>\n",
       "      <td>519000.0</td>\n",
       "    </tr>\n",
       "    <tr>\n",
       "      <th>9</th>\n",
       "      <td>10</td>\n",
       "      <td>Smith &amp; Wollensky</td>\n",
       "      <td>24501000.0</td>\n",
       "      <td>107</td>\n",
       "      <td>New York</td>\n",
       "      <td>N.Y.</td>\n",
       "      <td>257364.0</td>\n",
       "    </tr>\n",
       "  </tbody>\n",
       "</table>\n",
       "</div>"
      ],
      "text/plain": [
       "   Rank                           Restaurant       Sales  Average Check  \\\n",
       "0     1             Carmine's (Times Square)  39080335.0             40   \n",
       "1     2                The Boathouse Orlando  35218364.0             43   \n",
       "2     3                     Old Ebbitt Grill  29104017.0             33   \n",
       "3     4  LAVO Italian Restaurant & Nightclub  26916180.0             90   \n",
       "4     5             Bryant Park Grill & Cafe  26900000.0             62   \n",
       "5     6             Gibsons Bar & Steakhouse  25409952.0             80   \n",
       "6     7       Top of the World at the STRAT   25233543.0            103   \n",
       "7     8                          Maple & Ash  24837595.0             99   \n",
       "8     9                            Balthazar  24547800.0             87   \n",
       "9    10                    Smith & Wollensky  24501000.0            107   \n",
       "\n",
       "         City State  Meals Served  \n",
       "0    New York  N.Y.      469803.0  \n",
       "1    Orlando   Fla.      820819.0  \n",
       "2  Washington  D.C.      892830.0  \n",
       "3    New York  N.Y.      198500.0  \n",
       "4    New York  N.Y.      403000.0  \n",
       "5     Chicago  Ill.      348567.0  \n",
       "6   Las Vegas  Nev.      246054.0  \n",
       "7     Chicago  Ill.      210832.0  \n",
       "8    New York  N.Y.      519000.0  \n",
       "9    New York  N.Y.      257364.0  "
      ]
     },
     "execution_count": 192,
     "metadata": {},
     "output_type": "execute_result"
    }
   ],
   "source": [
    "dataFrame2.head(10)"
   ]
  },
  {
   "cell_type": "markdown",
   "metadata": {},
   "source": [
    "Formulate ML Business Problem:"
   ]
  },
  {
   "cell_type": "markdown",
   "metadata": {},
   "source": [
    "Identify factors leading to high average check. Label column: High_Average_Check(yes/no). The threshold for \"high\" will be defined. Feature columns: Rank, Restaurant, Sales, Average, Check, City, State, MealsServed, Category"
   ]
  },
  {
   "cell_type": "markdown",
   "metadata": {},
   "source": [
    "<b>Zoo Dataset</b>:"
   ]
  },
  {
   "cell_type": "code",
   "execution_count": 193,
   "metadata": {},
   "outputs": [],
   "source": [
    "#filename3 = os.path.join(os.getcwd(), \"data\", \"ZooData.csv\") \n",
    "\n",
    "dataFrame3 = pd.read_csv('class.csv')"
   ]
  },
  {
   "cell_type": "markdown",
   "metadata": {},
   "source": [
    "Inspect the data:"
   ]
  },
  {
   "cell_type": "code",
   "execution_count": 194,
   "metadata": {},
   "outputs": [
    {
     "data": {
      "text/html": [
       "<div>\n",
       "<style scoped>\n",
       "    .dataframe tbody tr th:only-of-type {\n",
       "        vertical-align: middle;\n",
       "    }\n",
       "\n",
       "    .dataframe tbody tr th {\n",
       "        vertical-align: top;\n",
       "    }\n",
       "\n",
       "    .dataframe thead th {\n",
       "        text-align: right;\n",
       "    }\n",
       "</style>\n",
       "<table border=\"1\" class=\"dataframe\">\n",
       "  <thead>\n",
       "    <tr style=\"text-align: right;\">\n",
       "      <th></th>\n",
       "      <th>Class_Number</th>\n",
       "      <th>Number_Of_Animal_Species_In_Class</th>\n",
       "      <th>Class_Type</th>\n",
       "      <th>Animal_Names</th>\n",
       "    </tr>\n",
       "  </thead>\n",
       "  <tbody>\n",
       "    <tr>\n",
       "      <th>0</th>\n",
       "      <td>1</td>\n",
       "      <td>41</td>\n",
       "      <td>Mammal</td>\n",
       "      <td>aardvark, antelope, bear, boar, buffalo, calf,...</td>\n",
       "    </tr>\n",
       "    <tr>\n",
       "      <th>1</th>\n",
       "      <td>2</td>\n",
       "      <td>20</td>\n",
       "      <td>Bird</td>\n",
       "      <td>chicken, crow, dove, duck, flamingo, gull, haw...</td>\n",
       "    </tr>\n",
       "    <tr>\n",
       "      <th>2</th>\n",
       "      <td>3</td>\n",
       "      <td>5</td>\n",
       "      <td>Reptile</td>\n",
       "      <td>pitviper, seasnake, slowworm, tortoise, tuatara</td>\n",
       "    </tr>\n",
       "    <tr>\n",
       "      <th>3</th>\n",
       "      <td>4</td>\n",
       "      <td>13</td>\n",
       "      <td>Fish</td>\n",
       "      <td>bass, carp, catfish, chub, dogfish, haddock, h...</td>\n",
       "    </tr>\n",
       "    <tr>\n",
       "      <th>4</th>\n",
       "      <td>5</td>\n",
       "      <td>4</td>\n",
       "      <td>Amphibian</td>\n",
       "      <td>frog, frog, newt, toad</td>\n",
       "    </tr>\n",
       "    <tr>\n",
       "      <th>5</th>\n",
       "      <td>6</td>\n",
       "      <td>8</td>\n",
       "      <td>Bug</td>\n",
       "      <td>flea, gnat, honeybee, housefly, ladybird, moth...</td>\n",
       "    </tr>\n",
       "    <tr>\n",
       "      <th>6</th>\n",
       "      <td>7</td>\n",
       "      <td>10</td>\n",
       "      <td>Invertebrate</td>\n",
       "      <td>clam, crab, crayfish, lobster, octopus, scorpi...</td>\n",
       "    </tr>\n",
       "  </tbody>\n",
       "</table>\n",
       "</div>"
      ],
      "text/plain": [
       "   Class_Number  Number_Of_Animal_Species_In_Class    Class_Type  \\\n",
       "0             1                                 41        Mammal   \n",
       "1             2                                 20          Bird   \n",
       "2             3                                  5       Reptile   \n",
       "3             4                                 13          Fish   \n",
       "4             5                                  4     Amphibian   \n",
       "5             6                                  8           Bug   \n",
       "6             7                                 10  Invertebrate   \n",
       "\n",
       "                                        Animal_Names  \n",
       "0  aardvark, antelope, bear, boar, buffalo, calf,...  \n",
       "1  chicken, crow, dove, duck, flamingo, gull, haw...  \n",
       "2    pitviper, seasnake, slowworm, tortoise, tuatara  \n",
       "3  bass, carp, catfish, chub, dogfish, haddock, h...  \n",
       "4                             frog, frog, newt, toad  \n",
       "5  flea, gnat, honeybee, housefly, ladybird, moth...  \n",
       "6  clam, crab, crayfish, lobster, octopus, scorpi...  "
      ]
     },
     "execution_count": 194,
     "metadata": {},
     "output_type": "execute_result"
    }
   ],
   "source": [
    "dataFrame3.head(10)"
   ]
  },
  {
   "cell_type": "markdown",
   "metadata": {},
   "source": [
    "Formulate ML Business Problem: How do we optimize resourse allocation and dietary planning at the zoo. \n",
    "\n",
    "Solution:\n",
    "I will develop a machine learning model to accurately classify animals into Herbivores, Ominvores, and Carnivores based on their physical characteristics. All the features in the data will be used."
   ]
  },
  {
   "cell_type": "markdown",
   "metadata": {},
   "source": []
  },
  {
   "cell_type": "markdown",
   "metadata": {},
   "source": [
    "<b>Flight Dataset</b>:"
   ]
  },
  {
   "cell_type": "code",
   "execution_count": 196,
   "metadata": {},
   "outputs": [],
   "source": [
    "filename4 = os.path.join(os.getcwd(), \"data\", \"FlightInformation.csv\") \n",
    "\n",
    "dataFrame4 = pd.read_csv('combined.csv')"
   ]
  },
  {
   "cell_type": "markdown",
   "metadata": {},
   "source": [
    "Inspect the data:"
   ]
  },
  {
   "cell_type": "code",
   "execution_count": 197,
   "metadata": {},
   "outputs": [
    {
     "data": {
      "text/html": [
       "<div>\n",
       "<style scoped>\n",
       "    .dataframe tbody tr th:only-of-type {\n",
       "        vertical-align: middle;\n",
       "    }\n",
       "\n",
       "    .dataframe tbody tr th {\n",
       "        vertical-align: top;\n",
       "    }\n",
       "\n",
       "    .dataframe thead th {\n",
       "        text-align: right;\n",
       "    }\n",
       "</style>\n",
       "<table border=\"1\" class=\"dataframe\">\n",
       "  <thead>\n",
       "    <tr style=\"text-align: right;\">\n",
       "      <th></th>\n",
       "      <th>Unnamed: 0</th>\n",
       "      <th>Year</th>\n",
       "      <th>Month</th>\n",
       "      <th>DayofMonth</th>\n",
       "      <th>DayOfWeek</th>\n",
       "      <th>DepTime</th>\n",
       "      <th>CRSDepTime</th>\n",
       "      <th>ArrTime</th>\n",
       "      <th>CRSArrTime</th>\n",
       "      <th>UniqueCarrier</th>\n",
       "      <th>...</th>\n",
       "      <th>TaxiIn</th>\n",
       "      <th>TaxiOut</th>\n",
       "      <th>Cancelled</th>\n",
       "      <th>CancellationCode</th>\n",
       "      <th>Diverted</th>\n",
       "      <th>CarrierDelay</th>\n",
       "      <th>WeatherDelay</th>\n",
       "      <th>NASDelay</th>\n",
       "      <th>SecurityDelay</th>\n",
       "      <th>LateAircraftDelay</th>\n",
       "    </tr>\n",
       "  </thead>\n",
       "  <tbody>\n",
       "    <tr>\n",
       "      <th>0</th>\n",
       "      <td>0</td>\n",
       "      <td>1987</td>\n",
       "      <td>11</td>\n",
       "      <td>28</td>\n",
       "      <td>6</td>\n",
       "      <td>2042.0</td>\n",
       "      <td>2025</td>\n",
       "      <td>2105.0</td>\n",
       "      <td>2053</td>\n",
       "      <td>PI</td>\n",
       "      <td>...</td>\n",
       "      <td>NaN</td>\n",
       "      <td>NaN</td>\n",
       "      <td>0</td>\n",
       "      <td>NaN</td>\n",
       "      <td>0</td>\n",
       "      <td>NaN</td>\n",
       "      <td>NaN</td>\n",
       "      <td>NaN</td>\n",
       "      <td>NaN</td>\n",
       "      <td>NaN</td>\n",
       "    </tr>\n",
       "    <tr>\n",
       "      <th>1</th>\n",
       "      <td>1</td>\n",
       "      <td>1987</td>\n",
       "      <td>10</td>\n",
       "      <td>22</td>\n",
       "      <td>4</td>\n",
       "      <td>1805.0</td>\n",
       "      <td>1800</td>\n",
       "      <td>1933.0</td>\n",
       "      <td>1905</td>\n",
       "      <td>HP</td>\n",
       "      <td>...</td>\n",
       "      <td>NaN</td>\n",
       "      <td>NaN</td>\n",
       "      <td>0</td>\n",
       "      <td>NaN</td>\n",
       "      <td>0</td>\n",
       "      <td>NaN</td>\n",
       "      <td>NaN</td>\n",
       "      <td>NaN</td>\n",
       "      <td>NaN</td>\n",
       "      <td>NaN</td>\n",
       "    </tr>\n",
       "    <tr>\n",
       "      <th>2</th>\n",
       "      <td>2</td>\n",
       "      <td>1987</td>\n",
       "      <td>11</td>\n",
       "      <td>19</td>\n",
       "      <td>4</td>\n",
       "      <td>657.0</td>\n",
       "      <td>655</td>\n",
       "      <td>821.0</td>\n",
       "      <td>804</td>\n",
       "      <td>PI</td>\n",
       "      <td>...</td>\n",
       "      <td>NaN</td>\n",
       "      <td>NaN</td>\n",
       "      <td>0</td>\n",
       "      <td>NaN</td>\n",
       "      <td>0</td>\n",
       "      <td>NaN</td>\n",
       "      <td>NaN</td>\n",
       "      <td>NaN</td>\n",
       "      <td>NaN</td>\n",
       "      <td>NaN</td>\n",
       "    </tr>\n",
       "    <tr>\n",
       "      <th>3</th>\n",
       "      <td>3</td>\n",
       "      <td>1987</td>\n",
       "      <td>11</td>\n",
       "      <td>23</td>\n",
       "      <td>1</td>\n",
       "      <td>1848.0</td>\n",
       "      <td>1835</td>\n",
       "      <td>1944.0</td>\n",
       "      <td>1920</td>\n",
       "      <td>DL</td>\n",
       "      <td>...</td>\n",
       "      <td>NaN</td>\n",
       "      <td>NaN</td>\n",
       "      <td>0</td>\n",
       "      <td>NaN</td>\n",
       "      <td>0</td>\n",
       "      <td>NaN</td>\n",
       "      <td>NaN</td>\n",
       "      <td>NaN</td>\n",
       "      <td>NaN</td>\n",
       "      <td>NaN</td>\n",
       "    </tr>\n",
       "    <tr>\n",
       "      <th>4</th>\n",
       "      <td>4</td>\n",
       "      <td>1987</td>\n",
       "      <td>11</td>\n",
       "      <td>25</td>\n",
       "      <td>3</td>\n",
       "      <td>703.0</td>\n",
       "      <td>655</td>\n",
       "      <td>828.0</td>\n",
       "      <td>821</td>\n",
       "      <td>AA</td>\n",
       "      <td>...</td>\n",
       "      <td>NaN</td>\n",
       "      <td>NaN</td>\n",
       "      <td>0</td>\n",
       "      <td>NaN</td>\n",
       "      <td>0</td>\n",
       "      <td>NaN</td>\n",
       "      <td>NaN</td>\n",
       "      <td>NaN</td>\n",
       "      <td>NaN</td>\n",
       "      <td>NaN</td>\n",
       "    </tr>\n",
       "    <tr>\n",
       "      <th>5</th>\n",
       "      <td>5</td>\n",
       "      <td>1987</td>\n",
       "      <td>11</td>\n",
       "      <td>4</td>\n",
       "      <td>3</td>\n",
       "      <td>1643.0</td>\n",
       "      <td>1626</td>\n",
       "      <td>1900.0</td>\n",
       "      <td>1829</td>\n",
       "      <td>PI</td>\n",
       "      <td>...</td>\n",
       "      <td>NaN</td>\n",
       "      <td>NaN</td>\n",
       "      <td>0</td>\n",
       "      <td>NaN</td>\n",
       "      <td>0</td>\n",
       "      <td>NaN</td>\n",
       "      <td>NaN</td>\n",
       "      <td>NaN</td>\n",
       "      <td>NaN</td>\n",
       "      <td>NaN</td>\n",
       "    </tr>\n",
       "    <tr>\n",
       "      <th>6</th>\n",
       "      <td>6</td>\n",
       "      <td>1987</td>\n",
       "      <td>12</td>\n",
       "      <td>28</td>\n",
       "      <td>1</td>\n",
       "      <td>1730.0</td>\n",
       "      <td>1722</td>\n",
       "      <td>1902.0</td>\n",
       "      <td>1840</td>\n",
       "      <td>AA</td>\n",
       "      <td>...</td>\n",
       "      <td>NaN</td>\n",
       "      <td>NaN</td>\n",
       "      <td>0</td>\n",
       "      <td>NaN</td>\n",
       "      <td>0</td>\n",
       "      <td>NaN</td>\n",
       "      <td>NaN</td>\n",
       "      <td>NaN</td>\n",
       "      <td>NaN</td>\n",
       "      <td>NaN</td>\n",
       "    </tr>\n",
       "    <tr>\n",
       "      <th>7</th>\n",
       "      <td>7</td>\n",
       "      <td>1987</td>\n",
       "      <td>10</td>\n",
       "      <td>30</td>\n",
       "      <td>5</td>\n",
       "      <td>1219.0</td>\n",
       "      <td>1217</td>\n",
       "      <td>NaN</td>\n",
       "      <td>1252</td>\n",
       "      <td>AA</td>\n",
       "      <td>...</td>\n",
       "      <td>NaN</td>\n",
       "      <td>NaN</td>\n",
       "      <td>0</td>\n",
       "      <td>NaN</td>\n",
       "      <td>1</td>\n",
       "      <td>NaN</td>\n",
       "      <td>NaN</td>\n",
       "      <td>NaN</td>\n",
       "      <td>NaN</td>\n",
       "      <td>NaN</td>\n",
       "    </tr>\n",
       "    <tr>\n",
       "      <th>8</th>\n",
       "      <td>8</td>\n",
       "      <td>1987</td>\n",
       "      <td>11</td>\n",
       "      <td>14</td>\n",
       "      <td>6</td>\n",
       "      <td>1735.0</td>\n",
       "      <td>1730</td>\n",
       "      <td>1916.0</td>\n",
       "      <td>1922</td>\n",
       "      <td>EA</td>\n",
       "      <td>...</td>\n",
       "      <td>NaN</td>\n",
       "      <td>NaN</td>\n",
       "      <td>0</td>\n",
       "      <td>NaN</td>\n",
       "      <td>0</td>\n",
       "      <td>NaN</td>\n",
       "      <td>NaN</td>\n",
       "      <td>NaN</td>\n",
       "      <td>NaN</td>\n",
       "      <td>NaN</td>\n",
       "    </tr>\n",
       "    <tr>\n",
       "      <th>9</th>\n",
       "      <td>9</td>\n",
       "      <td>1987</td>\n",
       "      <td>10</td>\n",
       "      <td>18</td>\n",
       "      <td>7</td>\n",
       "      <td>1655.0</td>\n",
       "      <td>1635</td>\n",
       "      <td>1847.0</td>\n",
       "      <td>1830</td>\n",
       "      <td>NW</td>\n",
       "      <td>...</td>\n",
       "      <td>NaN</td>\n",
       "      <td>NaN</td>\n",
       "      <td>0</td>\n",
       "      <td>NaN</td>\n",
       "      <td>0</td>\n",
       "      <td>NaN</td>\n",
       "      <td>NaN</td>\n",
       "      <td>NaN</td>\n",
       "      <td>NaN</td>\n",
       "      <td>NaN</td>\n",
       "    </tr>\n",
       "  </tbody>\n",
       "</table>\n",
       "<p>10 rows × 30 columns</p>\n",
       "</div>"
      ],
      "text/plain": [
       "   Unnamed: 0  Year  Month  DayofMonth  DayOfWeek  DepTime  CRSDepTime  \\\n",
       "0           0  1987     11          28          6   2042.0        2025   \n",
       "1           1  1987     10          22          4   1805.0        1800   \n",
       "2           2  1987     11          19          4    657.0         655   \n",
       "3           3  1987     11          23          1   1848.0        1835   \n",
       "4           4  1987     11          25          3    703.0         655   \n",
       "5           5  1987     11           4          3   1643.0        1626   \n",
       "6           6  1987     12          28          1   1730.0        1722   \n",
       "7           7  1987     10          30          5   1219.0        1217   \n",
       "8           8  1987     11          14          6   1735.0        1730   \n",
       "9           9  1987     10          18          7   1655.0        1635   \n",
       "\n",
       "   ArrTime  CRSArrTime UniqueCarrier  ...  TaxiIn TaxiOut  Cancelled  \\\n",
       "0   2105.0        2053            PI  ...     NaN     NaN          0   \n",
       "1   1933.0        1905            HP  ...     NaN     NaN          0   \n",
       "2    821.0         804            PI  ...     NaN     NaN          0   \n",
       "3   1944.0        1920            DL  ...     NaN     NaN          0   \n",
       "4    828.0         821            AA  ...     NaN     NaN          0   \n",
       "5   1900.0        1829            PI  ...     NaN     NaN          0   \n",
       "6   1902.0        1840            AA  ...     NaN     NaN          0   \n",
       "7      NaN        1252            AA  ...     NaN     NaN          0   \n",
       "8   1916.0        1922            EA  ...     NaN     NaN          0   \n",
       "9   1847.0        1830            NW  ...     NaN     NaN          0   \n",
       "\n",
       "   CancellationCode  Diverted  CarrierDelay  WeatherDelay NASDelay  \\\n",
       "0               NaN         0           NaN           NaN      NaN   \n",
       "1               NaN         0           NaN           NaN      NaN   \n",
       "2               NaN         0           NaN           NaN      NaN   \n",
       "3               NaN         0           NaN           NaN      NaN   \n",
       "4               NaN         0           NaN           NaN      NaN   \n",
       "5               NaN         0           NaN           NaN      NaN   \n",
       "6               NaN         0           NaN           NaN      NaN   \n",
       "7               NaN         1           NaN           NaN      NaN   \n",
       "8               NaN         0           NaN           NaN      NaN   \n",
       "9               NaN         0           NaN           NaN      NaN   \n",
       "\n",
       "  SecurityDelay  LateAircraftDelay  \n",
       "0           NaN                NaN  \n",
       "1           NaN                NaN  \n",
       "2           NaN                NaN  \n",
       "3           NaN                NaN  \n",
       "4           NaN                NaN  \n",
       "5           NaN                NaN  \n",
       "6           NaN                NaN  \n",
       "7           NaN                NaN  \n",
       "8           NaN                NaN  \n",
       "9           NaN                NaN  \n",
       "\n",
       "[10 rows x 30 columns]"
      ]
     },
     "execution_count": 197,
     "metadata": {},
     "output_type": "execute_result"
    }
   ],
   "source": [
    "dataFrame4.head(10)"
   ]
  },
  {
   "cell_type": "markdown",
   "metadata": {},
   "source": [
    "ML Business Problem\n"
   ]
  },
  {
   "cell_type": "markdown",
   "metadata": {},
   "source": [
    "Predicting flight delays. Airline industries, when they predict delay, can improve scheduling, passenger communication, and resource allocation\n",
    "\n",
    "label column: Delayed/Not Delayed\n",
    "Feature columns: All present feature columns in the data set."
   ]
  },
  {
   "cell_type": "markdown",
   "metadata": {},
   "source": [
    "<b>Next Steps</b>: The second step of the machine learning life cycle is data understanding and data preparation. You practiced some aspects of data understanding when using NumPy and Pandas to inspect the Airbnb dataset. You will learn more about this second step of the machine learning life cycle in the next unit."
   ]
  }
 ],
 "metadata": {
  "kernelspec": {
   "display_name": "Python 3",
   "language": "python",
   "name": "python3"
  },
  "language_info": {
   "codemirror_mode": {
    "name": "ipython",
    "version": 3
   },
   "file_extension": ".py",
   "mimetype": "text/x-python",
   "name": "python",
   "nbconvert_exporter": "python",
   "pygments_lexer": "ipython3",
   "version": "3.12.1"
  },
  "toc": {
   "base_numbering": 1,
   "nav_menu": {
    "height": "12px",
    "width": "162px"
   },
   "number_sections": false,
   "sideBar": true,
   "skip_h1_title": false,
   "title_cell": "Table of Contents",
   "title_sidebar": "Contents",
   "toc_cell": false,
   "toc_position": {},
   "toc_section_display": true,
   "toc_window_display": false
  },
  "varInspector": {
   "cols": {
    "lenName": 16,
    "lenType": 16,
    "lenVar": 40
   },
   "kernels_config": {
    "python": {
     "delete_cmd_postfix": "",
     "delete_cmd_prefix": "del ",
     "library": "var_list.py",
     "varRefreshCmd": "print(var_dic_list())"
    },
    "r": {
     "delete_cmd_postfix": ") ",
     "delete_cmd_prefix": "rm(",
     "library": "var_list.r",
     "varRefreshCmd": "cat(var_dic_list()) "
    }
   },
   "types_to_exclude": [
    "module",
    "function",
    "builtin_function_or_method",
    "instance",
    "_Feature"
   ],
   "window_display": false
  }
 },
 "nbformat": 4,
 "nbformat_minor": 2
}
